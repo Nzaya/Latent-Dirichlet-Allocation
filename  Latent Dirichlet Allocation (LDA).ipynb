{
 "cells": [
  {
   "cell_type": "markdown",
   "metadata": {},
   "source": [
    "QUESTION\n",
    "\n",
    "Group each words to their respective topics"
   ]
  },
  {
   "cell_type": "code",
   "execution_count": 2,
   "metadata": {},
   "outputs": [],
   "source": [
    "\n",
    "# Importing Libraries we need for our analysis\n",
    "\n",
    "import pandas as pd\n",
    "import numpy as np\n",
    "from numpy import array,asarray,zeros\n",
    "\n",
    "import matplotlib.pyplot as plt\n",
    "%matplotlib inline\n",
    "import seaborn as sns\n",
    "\n",
    "import nltk\n",
    "import re #n“re” stands for regular expression. It provides shortcuts to manipulate our data.\n"
   ]
  },
  {
   "cell_type": "code",
   "execution_count": 3,
   "metadata": {},
   "outputs": [
    {
     "data": {
      "text/html": [
       "<div>\n",
       "<style scoped>\n",
       "    .dataframe tbody tr th:only-of-type {\n",
       "        vertical-align: middle;\n",
       "    }\n",
       "\n",
       "    .dataframe tbody tr th {\n",
       "        vertical-align: top;\n",
       "    }\n",
       "\n",
       "    .dataframe thead th {\n",
       "        text-align: right;\n",
       "    }\n",
       "</style>\n",
       "<table border=\"1\" class=\"dataframe\">\n",
       "  <thead>\n",
       "    <tr style=\"text-align: right;\">\n",
       "      <th></th>\n",
       "      <th>id</th>\n",
       "      <th>subreddit</th>\n",
       "      <th>title</th>\n",
       "      <th>selftext</th>\n",
       "    </tr>\n",
       "  </thead>\n",
       "  <tbody>\n",
       "    <tr>\n",
       "      <th>0</th>\n",
       "      <td>6d8knd</td>\n",
       "      <td>talesfromtechsupport</td>\n",
       "      <td>Remember your command line switches...</td>\n",
       "      <td>Hi there,  &lt;lb&gt;The usual. Long time lerker, fi...</td>\n",
       "    </tr>\n",
       "    <tr>\n",
       "      <th>1</th>\n",
       "      <td>58mbft</td>\n",
       "      <td>teenmom</td>\n",
       "      <td>So what was Matt \"addicted\" to?</td>\n",
       "      <td>Did he ever say what his addiction was or is h...</td>\n",
       "    </tr>\n",
       "    <tr>\n",
       "      <th>2</th>\n",
       "      <td>8f73s7</td>\n",
       "      <td>Harley</td>\n",
       "      <td>No Club Colors</td>\n",
       "      <td>Funny story. I went to college in Las Vegas. T...</td>\n",
       "    </tr>\n",
       "    <tr>\n",
       "      <th>3</th>\n",
       "      <td>6ti6re</td>\n",
       "      <td>ringdoorbell</td>\n",
       "      <td>Not door bell, but floodlight mount height.</td>\n",
       "      <td>I know this is a sub for the 'Ring Doorbell' b...</td>\n",
       "    </tr>\n",
       "    <tr>\n",
       "      <th>4</th>\n",
       "      <td>77sxto</td>\n",
       "      <td>intel</td>\n",
       "      <td>Worried about my 8700k small fft/data stress r...</td>\n",
       "      <td>Prime95 (regardless of version) and OCCT both,...</td>\n",
       "    </tr>\n",
       "  </tbody>\n",
       "</table>\n",
       "</div>"
      ],
      "text/plain": [
       "       id             subreddit  \\\n",
       "0  6d8knd  talesfromtechsupport   \n",
       "1  58mbft               teenmom   \n",
       "2  8f73s7                Harley   \n",
       "3  6ti6re          ringdoorbell   \n",
       "4  77sxto                 intel   \n",
       "\n",
       "                                               title  \\\n",
       "0             Remember your command line switches...   \n",
       "1                    So what was Matt \"addicted\" to?   \n",
       "2                                     No Club Colors   \n",
       "3        Not door bell, but floodlight mount height.   \n",
       "4  Worried about my 8700k small fft/data stress r...   \n",
       "\n",
       "                                            selftext  \n",
       "0  Hi there,  <lb>The usual. Long time lerker, fi...  \n",
       "1  Did he ever say what his addiction was or is h...  \n",
       "2  Funny story. I went to college in Las Vegas. T...  \n",
       "3  I know this is a sub for the 'Ring Doorbell' b...  \n",
       "4  Prime95 (regardless of version) and OCCT both,...  "
      ]
     },
     "execution_count": 3,
     "metadata": {},
     "output_type": "execute_result"
    }
   ],
   "source": [
    "#Loading the dataset\n",
    "\n",
    "reddit= pd.read_csv('rspct.tsv', delimiter='\\t')\n",
    "reddit.head()"
   ]
  },
  {
   "cell_type": "code",
   "execution_count": 4,
   "metadata": {},
   "outputs": [
    {
     "data": {
      "text/plain": [
       "(1013000, 4)"
      ]
     },
     "execution_count": 4,
     "metadata": {},
     "output_type": "execute_result"
    }
   ],
   "source": [
    "#Shape of our dataset\n",
    "\n",
    "reddit.shape"
   ]
  },
  {
   "cell_type": "markdown",
   "metadata": {},
   "source": [
    "## DATA CLEANING"
   ]
  },
  {
   "cell_type": "code",
   "execution_count": 5,
   "metadata": {},
   "outputs": [],
   "source": [
    "#Dropping all columns expect selftext\n",
    "\n",
    "reddit.drop(['id','subreddit','title'], axis=1, inplace= True)"
   ]
  },
  {
   "cell_type": "code",
   "execution_count": 6,
   "metadata": {},
   "outputs": [
    {
     "data": {
      "text/html": [
       "<div>\n",
       "<style scoped>\n",
       "    .dataframe tbody tr th:only-of-type {\n",
       "        vertical-align: middle;\n",
       "    }\n",
       "\n",
       "    .dataframe tbody tr th {\n",
       "        vertical-align: top;\n",
       "    }\n",
       "\n",
       "    .dataframe thead th {\n",
       "        text-align: right;\n",
       "    }\n",
       "</style>\n",
       "<table border=\"1\" class=\"dataframe\">\n",
       "  <thead>\n",
       "    <tr style=\"text-align: right;\">\n",
       "      <th></th>\n",
       "      <th>selftext</th>\n",
       "    </tr>\n",
       "  </thead>\n",
       "  <tbody>\n",
       "    <tr>\n",
       "      <th>0</th>\n",
       "      <td>Hi there,  &lt;lb&gt;The usual. Long time lerker, fi...</td>\n",
       "    </tr>\n",
       "    <tr>\n",
       "      <th>1</th>\n",
       "      <td>Did he ever say what his addiction was or is h...</td>\n",
       "    </tr>\n",
       "    <tr>\n",
       "      <th>2</th>\n",
       "      <td>Funny story. I went to college in Las Vegas. T...</td>\n",
       "    </tr>\n",
       "    <tr>\n",
       "      <th>3</th>\n",
       "      <td>I know this is a sub for the 'Ring Doorbell' b...</td>\n",
       "    </tr>\n",
       "    <tr>\n",
       "      <th>4</th>\n",
       "      <td>Prime95 (regardless of version) and OCCT both,...</td>\n",
       "    </tr>\n",
       "  </tbody>\n",
       "</table>\n",
       "</div>"
      ],
      "text/plain": [
       "                                            selftext\n",
       "0  Hi there,  <lb>The usual. Long time lerker, fi...\n",
       "1  Did he ever say what his addiction was or is h...\n",
       "2  Funny story. I went to college in Las Vegas. T...\n",
       "3  I know this is a sub for the 'Ring Doorbell' b...\n",
       "4  Prime95 (regardless of version) and OCCT both,..."
      ]
     },
     "execution_count": 6,
     "metadata": {},
     "output_type": "execute_result"
    }
   ],
   "source": [
    "reddit.head()"
   ]
  },
  {
   "cell_type": "code",
   "execution_count": 7,
   "metadata": {},
   "outputs": [
    {
     "data": {
      "text/plain": [
       "(20260, 1)"
      ]
     },
     "execution_count": 7,
     "metadata": {},
     "output_type": "execute_result"
    }
   ],
   "source": [
    "#Sampling our data\n",
    "\n",
    "data= reddit.sample(frac=0.02)\n",
    "data.shape"
   ]
  },
  {
   "cell_type": "markdown",
   "metadata": {},
   "source": [
    "> Remove punctuation/lower casing"
   ]
  },
  {
   "cell_type": "markdown",
   "metadata": {},
   "source": [
    "Next, let’s perform a simple preprocessing on the content of paper_text column to make them more amenable for analysis, and reliable results. To do that, we’ll use a regular expression to remove any punctuation, and then lowercase the text"
   ]
  },
  {
   "cell_type": "code",
   "execution_count": 8,
   "metadata": {},
   "outputs": [],
   "source": [
    "#Remove punctuation\n",
    "\n",
    "data['selftext_processed']= data['selftext'].map(lambda x: re.sub('[,\\.!?]', '', x))"
   ]
  },
  {
   "cell_type": "code",
   "execution_count": 9,
   "metadata": {},
   "outputs": [
    {
     "data": {
      "text/plain": [
       "609343    It's most likely a format but not the one with...\n",
       "840632    Hi I come from a very old fashioned country It...\n",
       "355056    I found a person recently selling batch 16L01 ...\n",
       "702574    Looking for some sound financial advice regard...\n",
       "321436    This is a repost I'm not sure what happened to...\n",
       "Name: selftext_processed, dtype: object"
      ]
     },
     "execution_count": 9,
     "metadata": {},
     "output_type": "execute_result"
    }
   ],
   "source": [
    "#Preview the new data\n",
    "\n",
    "data['selftext_processed'].head()"
   ]
  },
  {
   "cell_type": "markdown",
   "metadata": {},
   "source": [
    "> Tokenize words and further clean up text"
   ]
  },
  {
   "cell_type": "markdown",
   "metadata": {},
   "source": [
    "Let's tokenize each sentence into a list of words, removing punctuations and unnecessary characters all together"
   ]
  },
  {
   "cell_type": "code",
   "execution_count": 10,
   "metadata": {},
   "outputs": [],
   "source": [
    "#Loading the necessary library\n",
    "\n",
    "import gensim\n",
    "from gensim.utils import simple_preprocess"
   ]
  },
  {
   "cell_type": "code",
   "execution_count": 11,
   "metadata": {},
   "outputs": [],
   "source": [
    "def sent_to_words(sentences):\n",
    "    for sentence in sentences:\n",
    "        yield(gensim.utils.simple_preprocess(str(sentence), deacc=True)) #deacc=True removes unctuation\n",
    "        "
   ]
  },
  {
   "cell_type": "code",
   "execution_count": 12,
   "metadata": {},
   "outputs": [
    {
     "name": "stdout",
     "output_type": "stream",
     "text": [
      "['it', 'most', 'likely', 'format', 'but', 'not', 'the', 'one', 'with', 'overwriting', 'partition', 'scheme', 'is', 'most', 'likely', 'fat', 'lb', 'lb', 'haven', 'over', 'written', 'anything', 'good', 'nor', 'did', 'put', 'any', 'data', 'lb', 'lb']\n"
     ]
    }
   ],
   "source": [
    "df= data.selftext_processed.values.tolist()\n",
    "df_words= list(sent_to_words(df))\n",
    "\n",
    "print(df_words[:1][0][:30])"
   ]
  },
  {
   "cell_type": "markdown",
   "metadata": {},
   "source": [
    "## MODELLING"
   ]
  },
  {
   "cell_type": "markdown",
   "metadata": {},
   "source": [
    "> Creating Bigram and Trigram Models"
   ]
  },
  {
   "cell_type": "markdown",
   "metadata": {},
   "source": [
    "Bigrams are two words that frequently occur together in a document. Trigrams are three words that frequently occur.\n"
   ]
  },
  {
   "cell_type": "code",
   "execution_count": 14,
   "metadata": {},
   "outputs": [],
   "source": [
    "#Build the bigram and trigram models\n",
    "\n",
    "bigram= gensim.models.Phrases(df_words, min_count= 5, threshold= 100) #Higher threshold fewer phrases\n",
    "trigram= gensim.models.Phrases(bigram[df_words], threshold= 100)"
   ]
  },
  {
   "cell_type": "code",
   "execution_count": 15,
   "metadata": {},
   "outputs": [],
   "source": [
    "# Faster way to get a sentence clubbed as a trigram/bigram\n",
    "\n",
    "bigram_mod = gensim.models.phrases.Phraser(bigram)\n",
    "trigram_mod = gensim.models.phrases.Phraser(trigram)"
   ]
  },
  {
   "cell_type": "markdown",
   "metadata": {},
   "source": [
    "> Remove Stopwords, Make Bigrams and Lemmatize"
   ]
  },
  {
   "cell_type": "markdown",
   "metadata": {},
   "source": [
    "The phrase models are ready. Let’s define the functions to remove the stopwords, make trigrams and lemmatization and call them sequentially."
   ]
  },
  {
   "cell_type": "code",
   "execution_count": 17,
   "metadata": {},
   "outputs": [
    {
     "name": "stderr",
     "output_type": "stream",
     "text": [
      "[nltk_data] Error loading stopwords: <urlopen error [Errno 11001]\n",
      "[nltk_data]     getaddrinfo failed>\n"
     ]
    }
   ],
   "source": [
    "#NLTK Stopwords\n",
    "\n",
    "import nltk\n",
    "nltk.download('stopwords')\n",
    "from nltk.corpus import stopwords"
   ]
  },
  {
   "cell_type": "code",
   "execution_count": 18,
   "metadata": {},
   "outputs": [],
   "source": [
    "stop_words= stopwords.words('english')\n",
    "stop_words.extend(['from','subject','re','edu','use'])"
   ]
  },
  {
   "cell_type": "code",
   "execution_count": 19,
   "metadata": {},
   "outputs": [],
   "source": [
    "#Define functions for stopwords, bigrams, trigrams and lemmatization\n",
    "\n",
    "def remove_stopwords(texts):\n",
    "    return[[word for word in simple_preprocess(str(doc)) if word not in stop_words] for doc in texts]\n",
    "\n",
    "def make_bigrams(texts):\n",
    "    return[bigram_mod[doc] for doc in texts]\n",
    "\n",
    "def make_trigrams(texts):\n",
    "    return[trigrams_mod[bigram_mod[doc]] for doc in texts]\n",
    "\n",
    "def lemmatization(texts, allowed_postags=['NOUN','ADJ','VERB','ADV']):\n",
    "    \n",
    "    \n",
    "    texts_out=[]\n",
    "    for sent in texts:\n",
    "        doc= nlp(\" \".join(sent))\n",
    "        texts_out.append([token.lemma_ for token in doc if token.pos_ in allowed_postags])\n",
    "    return texts_out\n",
    "    \n",
    "    "
   ]
  },
  {
   "cell_type": "markdown",
   "metadata": {},
   "source": [
    "Let's call the functions in order."
   ]
  },
  {
   "cell_type": "code",
   "execution_count": 20,
   "metadata": {},
   "outputs": [],
   "source": [
    "import spacy"
   ]
  },
  {
   "cell_type": "code",
   "execution_count": 21,
   "metadata": {},
   "outputs": [],
   "source": [
    "#Remove Stop Words\n",
    "\n",
    "df_words_nostops= remove_stopwords(df_words)"
   ]
  },
  {
   "cell_type": "code",
   "execution_count": 22,
   "metadata": {},
   "outputs": [],
   "source": [
    "#Form Bigrams\n",
    "\n",
    "df_words_bigrams= make_bigrams(df_words_nostops)"
   ]
  },
  {
   "cell_type": "code",
   "execution_count": 23,
   "metadata": {},
   "outputs": [],
   "source": [
    "# Initialize spacy 'en' model, keeping only tagger component (for efficiency)\n",
    "\n",
    "nlp = spacy.load(\"en_core_web_sm\", disable=['parser', 'ner'])"
   ]
  },
  {
   "cell_type": "code",
   "execution_count": 24,
   "metadata": {},
   "outputs": [],
   "source": [
    "# Do lemmatization keeping only noun, adj, vb, adv\n",
    "\n",
    "df_lemmatized = lemmatization(df_words_bigrams, allowed_postags=['NOUN', 'ADJ', 'VERB', 'ADV'])\n"
   ]
  },
  {
   "cell_type": "code",
   "execution_count": 25,
   "metadata": {},
   "outputs": [
    {
     "name": "stdout",
     "output_type": "stream",
     "text": [
      "['likely', 'format', 'overwrite', 'partition', 'scheme', 'likely', 'fat', 'write', 'good', 'put', 'drive', 'ever', 'fill', 'never', 'fill', 'make', 'sure', 'situation', 'bad', 'try', 'instance', 'also', 'testdisk', 'connect', 'drive', 'see']\n"
     ]
    }
   ],
   "source": [
    "#Previewing output\n",
    "\n",
    "print(df_lemmatized[:1][0][:30])"
   ]
  },
  {
   "cell_type": "markdown",
   "metadata": {},
   "source": [
    "> Data transformation: Corpus and Dictionary"
   ]
  },
  {
   "cell_type": "markdown",
   "metadata": {},
   "source": [
    "The two main inputs to the LDA topic model are the dictionary(id2word) and the corpus. Let’s create them."
   ]
  },
  {
   "cell_type": "code",
   "execution_count": 26,
   "metadata": {},
   "outputs": [],
   "source": [
    "import gensim.corpora as corpora"
   ]
  },
  {
   "cell_type": "code",
   "execution_count": 27,
   "metadata": {},
   "outputs": [],
   "source": [
    "# Create Dictionary\n",
    "\n",
    "id2word = corpora.Dictionary(df_lemmatized)"
   ]
  },
  {
   "cell_type": "code",
   "execution_count": 28,
   "metadata": {},
   "outputs": [],
   "source": [
    "# Create Corpus\n",
    "\n",
    "texts = df_lemmatized"
   ]
  },
  {
   "cell_type": "code",
   "execution_count": 29,
   "metadata": {},
   "outputs": [],
   "source": [
    "# Term Document Frequency\n",
    "\n",
    "corpus = [id2word.doc2bow(text) for text in texts]"
   ]
  },
  {
   "cell_type": "code",
   "execution_count": 30,
   "metadata": {},
   "outputs": [
    {
     "name": "stdout",
     "output_type": "stream",
     "text": [
      "[(0, 1), (1, 1), (2, 1), (3, 2), (4, 1), (5, 1), (6, 2), (7, 1), (8, 1), (9, 1), (10, 2), (11, 1), (12, 1), (13, 1), (14, 1), (15, 1), (16, 1), (17, 1), (18, 1), (19, 1), (20, 1), (21, 1), (22, 1)]\n"
     ]
    }
   ],
   "source": [
    "# View\n",
    "\n",
    "print(corpus[:1][0][:30])"
   ]
  },
  {
   "cell_type": "markdown",
   "metadata": {},
   "source": [
    "> Building the Basic Model"
   ]
  },
  {
   "cell_type": "markdown",
   "metadata": {},
   "source": [
    "We have everything required to train the base LDA model. In addition to the corpus and dictionary, you need to provide the number of topics as well. Apart from that, alpha and eta are hyperparameters that affect sparsity of the topics. According to the Gensim docs, both defaults to 1.0/num_topics prior (we'll use default for the base model).\n",
    "\n",
    "chunksize controls how many documents are processed at a time in the training algorithm. Increasing chunksize will speed up training, at least as long as the chunk of documents easily fit into memory.\n",
    "\n",
    "passes controls how often we train the model on the entire corpus (set to 10). Another word for passes might be \"epochs\". iterations is somewhat technical, but essentially it controls how often we repeat a particular loop over each document. It is important to set the number of \"passes\" and \"iterations\" high enough."
   ]
  },
  {
   "cell_type": "code",
   "execution_count": 31,
   "metadata": {},
   "outputs": [],
   "source": [
    "#Build LDA Model\n",
    "\n",
    "lda_model= gensim.models.LdaMulticore(corpus= corpus,\n",
    "                                     id2word= id2word,\n",
    "                                     num_topics= 10,\n",
    "                                     random_state= 100,\n",
    "                                     chunksize= 100,\n",
    "                                     passes= 10,\n",
    "                                     per_word_topics= True)"
   ]
  },
  {
   "cell_type": "markdown",
   "metadata": {},
   "source": [
    "> View the topics in LDA model"
   ]
  },
  {
   "cell_type": "markdown",
   "metadata": {},
   "source": [
    "The above LDA model is built with 10 different topics where each topic is a combination of keywords and each keyword contributes a certain weightage to the topic.\n",
    "\n",
    "You can see the keywords for each topic and the weightage(importance) of each keyword using lda_model.print_topics()"
   ]
  },
  {
   "cell_type": "code",
   "execution_count": 32,
   "metadata": {},
   "outputs": [],
   "source": [
    "from pprint import pprint"
   ]
  },
  {
   "cell_type": "code",
   "execution_count": 33,
   "metadata": {},
   "outputs": [
    {
     "name": "stdout",
     "output_type": "stream",
     "text": [
      "[(0,\n",
      "  '0.025*\"card\" + 0.018*\"buy\" + 0.014*\"deck\" + 0.012*\"price\" + 0.011*\"sell\" + '\n",
      "  '0.010*\"good\" + 0.008*\"ship\" + 0.008*\"look\" + 0.008*\"cost\" + 0.007*\"new\"'),\n",
      " (1,\n",
      "  '0.016*\"want\" + 0.015*\"know\" + 0.013*\"say\" + 0.012*\"go\" + 0.010*\"tell\" + '\n",
      "  '0.010*\"think\" + 0.009*\"make\" + 0.008*\"get\" + 0.008*\"year\" + 0.008*\"friend\"'),\n",
      " (2,\n",
      "  '0.015*\"think\" + 0.014*\"see\" + 0.011*\"know\" + 0.010*\"make\" + 0.009*\"people\" '\n",
      "  '+ 0.008*\"show\" + 0.008*\"say\" + 0.007*\"watch\" + 0.007*\"really\" + '\n",
      "  '0.006*\"also\"'),\n",
      " (3,\n",
      "  '0.021*\"go\" + 0.018*\"get\" + 0.017*\"feel\" + 0.016*\"time\" + 0.014*\"take\" + '\n",
      "  '0.012*\"day\" + 0.012*\"year\" + 0.010*\"know\" + 0.010*\"really\" + 0.010*\"start\"'),\n",
      " (4,\n",
      "  '0.016*\"get\" + 0.016*\"day\" + 0.014*\"go\" + 0.012*\"time\" + 0.011*\"say\" + '\n",
      "  '0.010*\"order\" + 0.009*\"week\" + 0.009*\"month\" + 0.008*\"back\" + 0.006*\"see\"'),\n",
      " (5,\n",
      "  '0.012*\"work\" + 0.009*\"thank\" + 0.008*\"want\" + 0.008*\"look\" + 0.007*\"find\" + '\n",
      "  '0.007*\"help\" + 0.007*\"know\" + 0.007*\"question\" + 0.007*\"get\" + '\n",
      "  '0.006*\"make\"'),\n",
      " (6,\n",
      "  '0.018*\"look\" + 0.009*\"buy\" + 0.008*\"get\" + 0.008*\"good\" + 0.008*\"want\" + '\n",
      "  '0.008*\"wear\" + 0.007*\"color\" + 0.007*\"make\" + 0.007*\"find\" + 0.006*\"use\"'),\n",
      " (7,\n",
      "  '0.016*\"use\" + 0.013*\"try\" + 0.013*\"work\" + 0.013*\"get\" + 0.009*\"run\" + '\n",
      "  '0.008*\"look\" + 0.008*\"issue\" + 0.008*\"set\" + 0.007*\"go\" + 0.007*\"need\"'),\n",
      " (8,\n",
      "  '0.016*\"get\" + 0.011*\"go\" + 0.008*\"try\" + 0.008*\"look\" + 0.007*\"start\" + '\n",
      "  '0.007*\"eye\" + 0.006*\"back\" + 0.006*\"time\" + 0.005*\"night\" + 0.005*\"water\"'),\n",
      " (9,\n",
      "  '0.032*\"game\" + 0.031*\"play\" + 0.015*\"get\" + 0.014*\"player\" + 0.010*\"level\" '\n",
      "  '+ 0.010*\"make\" + 0.009*\"team\" + 0.008*\"good\" + 0.007*\"think\" + '\n",
      "  '0.007*\"want\"')]\n"
     ]
    }
   ],
   "source": [
    "# Print the Keyword in the 10 topics\n",
    "\n",
    "pprint(lda_model.print_topics())\n",
    "doc_lda = lda_model[corpus]"
   ]
  },
  {
   "cell_type": "markdown",
   "metadata": {},
   "source": [
    "> Compute Model Perplexity and Coherence Score"
   ]
  },
  {
   "cell_type": "markdown",
   "metadata": {},
   "source": [
    "Let's calculate the baseline coherence score"
   ]
  },
  {
   "cell_type": "code",
   "execution_count": 34,
   "metadata": {},
   "outputs": [],
   "source": [
    "from gensim.models import CoherenceModel"
   ]
  },
  {
   "cell_type": "code",
   "execution_count": 35,
   "metadata": {},
   "outputs": [
    {
     "name": "stdout",
     "output_type": "stream",
     "text": [
      "Coherence Score:  0.36586190443839095\n"
     ]
    }
   ],
   "source": [
    "# Compute Coherence Score\n",
    "\n",
    "coherence_model_lda = CoherenceModel(model=lda_model, texts=df_lemmatized, dictionary=id2word, coherence='c_v')\n",
    "coherence_lda = coherence_model_lda.get_coherence()\n",
    "print('Coherence Score: ', coherence_lda)"
   ]
  },
  {
   "cell_type": "markdown",
   "metadata": {},
   "source": [
    "> Hyperparameter Tuning"
   ]
  },
  {
   "cell_type": "markdown",
   "metadata": {},
   "source": [
    "First, let's differentiate between model hyperparameters and model parameters :\n",
    "\n",
    "Model hyperparameters can be thought of as settings for a machine learning algorithm that are tuned by the data scientist before training. Examples would be the number of trees in the random forest, or in our case, number of topics K\n",
    "\n",
    "Model parameters can be thought of as what the model learns during training, such as the weights for each word in a given topic.\n",
    "\n",
    "Now that we have the baseline coherence score for the default LDA model, let's perform a series of sensitivity tests to help determine the following model hyperparameters:\n",
    "\n",
    "Number of Topics (K)\n",
    "Dirichlet hyperparameter alpha: Document-Topic Density\n",
    "Dirichlet hyperparameter beta: Word-Topic Density\n",
    "We'll perform these tests in sequence, one parameter at a time by keeping others constant and run them over the two difference validation corpus sets. We'll use C_v as our choice of metric for performance comparison"
   ]
  },
  {
   "cell_type": "code",
   "execution_count": 36,
   "metadata": {},
   "outputs": [],
   "source": [
    "# supporting function\n",
    "\n",
    "def compute_coherence_values(corpus, dictionary, k, a, b):\n",
    "    \n",
    "    lda_model = gensim.models.LdaMulticore(corpus=corpus,\n",
    "                                           id2word=dictionary,\n",
    "                                           num_topics=k, \n",
    "                                           random_state=100,\n",
    "                                           chunksize=100,\n",
    "                                           passes=10,\n",
    "                                           alpha=a,\n",
    "                                           eta=b)\n",
    "    \n",
    "    coherence_model_lda = CoherenceModel(model=lda_model, texts=df_lemmatized, dictionary=id2word, coherence='c_v')\n",
    "    \n",
    "    return coherence_model_lda.get_coherence()"
   ]
  },
  {
   "cell_type": "markdown",
   "metadata": {},
   "source": [
    "\n",
    "Let's call the function, and iterate it over the range of topics, alpha, and beta parameter values"
   ]
  },
  {
   "cell_type": "code",
   "execution_count": 37,
   "metadata": {},
   "outputs": [],
   "source": [
    "import tqdm"
   ]
  },
  {
   "cell_type": "code",
   "execution_count": 38,
   "metadata": {},
   "outputs": [],
   "source": [
    "grid = {}\n",
    "grid['Validation_Set'] = {}"
   ]
  },
  {
   "cell_type": "code",
   "execution_count": 39,
   "metadata": {},
   "outputs": [],
   "source": [
    "# Topics range\n",
    "\n",
    "min_topics = 2\n",
    "max_topics = 11\n",
    "step_size = 1\n",
    "topics_range = range(min_topics, max_topics, step_size)"
   ]
  },
  {
   "cell_type": "code",
   "execution_count": 40,
   "metadata": {},
   "outputs": [],
   "source": [
    "# Alpha parameter\n",
    "\n",
    "alpha = list(np.arange(0.01, 1, 0.3))\n",
    "alpha.append('symmetric')\n",
    "alpha.append('asymmetric')"
   ]
  },
  {
   "cell_type": "code",
   "execution_count": 41,
   "metadata": {},
   "outputs": [],
   "source": [
    "# Beta parameter\n",
    "\n",
    "beta = list(np.arange(0.01, 1, 0.3))\n",
    "beta.append('symmetric')"
   ]
  },
  {
   "cell_type": "code",
   "execution_count": 42,
   "metadata": {},
   "outputs": [],
   "source": [
    "# Validation sets\n",
    "\n",
    "num_of_docs = len(corpus)\n",
    "corpus_sets = [# gensim.utils.ClippedCorpus(corpus, num_of_docs*0.25), \n",
    "               # gensim.utils.ClippedCorpus(corpus, num_of_docs*0.5), \n",
    "               # gensim.utils.ClippedCorpus(corpus, num_of_docs*0.75), \n",
    "               corpus]"
   ]
  },
  {
   "cell_type": "code",
   "execution_count": 43,
   "metadata": {},
   "outputs": [],
   "source": [
    "corpus_title= ['100% Corpus']"
   ]
  },
  {
   "cell_type": "code",
   "execution_count": 44,
   "metadata": {},
   "outputs": [],
   "source": [
    "model_results = {'Validation_Set': [],\n",
    "                 'Topics': [],\n",
    "                 'Alpha': [],\n",
    "                 'Beta': [],\n",
    "                 'Coherence': []\n",
    "                }"
   ]
  },
  {
   "cell_type": "code",
   "execution_count": 45,
   "metadata": {},
   "outputs": [
    {
     "name": "stderr",
     "output_type": "stream",
     "text": [
      "100%|█████████████████████████████████████████████████████████████████████████████| 270/270 [9:42:22<00:00, 145.19s/it]\n"
     ]
    }
   ],
   "source": [
    "# Can take a long time to run\n",
    "\n",
    "if 1 == 1:\n",
    "    pbar = tqdm.tqdm(total=(len(beta)*len(alpha)*len(topics_range)*len(corpus_title)))\n",
    "    \n",
    "    # iterate through validation corpuses\n",
    "    for i in range(len(corpus_sets)):\n",
    "        # iterate through number of topics\n",
    "        for k in topics_range:\n",
    "            # iterate through alpha values\n",
    "            for a in alpha:\n",
    "                # iterare through beta values\n",
    "                for b in beta:\n",
    "                    # get the coherence score for the given parameters\n",
    "                    cv = compute_coherence_values(corpus=corpus_sets[i], dictionary=id2word, \n",
    "                                                  k=k, a=a, b=b)\n",
    "                    # Save the model results\n",
    "                    model_results['Validation_Set'].append(corpus_title[i])\n",
    "                    model_results['Topics'].append(k)\n",
    "                    model_results['Alpha'].append(a)\n",
    "                    model_results['Beta'].append(b)\n",
    "                    model_results['Coherence'].append(cv)\n",
    "                    \n",
    "                    pbar.update(1)\n",
    "    pd.DataFrame(model_results).to_csv('lda_tuning_results.csv', index=False)\n",
    "    pbar.close()"
   ]
  },
  {
   "cell_type": "code",
   "execution_count": 75,
   "metadata": {},
   "outputs": [
    {
     "data": {
      "text/html": [
       "<div>\n",
       "<style scoped>\n",
       "    .dataframe tbody tr th:only-of-type {\n",
       "        vertical-align: middle;\n",
       "    }\n",
       "\n",
       "    .dataframe tbody tr th {\n",
       "        vertical-align: top;\n",
       "    }\n",
       "\n",
       "    .dataframe thead th {\n",
       "        text-align: right;\n",
       "    }\n",
       "</style>\n",
       "<table border=\"1\" class=\"dataframe\">\n",
       "  <thead>\n",
       "    <tr style=\"text-align: right;\">\n",
       "      <th></th>\n",
       "      <th>Validation_Set</th>\n",
       "      <th>Topics</th>\n",
       "      <th>Alpha</th>\n",
       "      <th>Beta</th>\n",
       "      <th>Coherence</th>\n",
       "    </tr>\n",
       "  </thead>\n",
       "  <tbody>\n",
       "    <tr>\n",
       "      <th>113</th>\n",
       "      <td>100% Corpus</td>\n",
       "      <td>5</td>\n",
       "      <td>symmetric</td>\n",
       "      <td>0.9099999999999999</td>\n",
       "      <td>0.466149</td>\n",
       "    </tr>\n",
       "    <tr>\n",
       "      <th>98</th>\n",
       "      <td>100% Corpus</td>\n",
       "      <td>5</td>\n",
       "      <td>0.31</td>\n",
       "      <td>0.9099999999999999</td>\n",
       "      <td>0.451412</td>\n",
       "    </tr>\n",
       "    <tr>\n",
       "      <th>218</th>\n",
       "      <td>100% Corpus</td>\n",
       "      <td>9</td>\n",
       "      <td>0.31</td>\n",
       "      <td>0.9099999999999999</td>\n",
       "      <td>0.443292</td>\n",
       "    </tr>\n",
       "    <tr>\n",
       "      <th>262</th>\n",
       "      <td>100% Corpus</td>\n",
       "      <td>10</td>\n",
       "      <td>symmetric</td>\n",
       "      <td>0.61</td>\n",
       "      <td>0.434213</td>\n",
       "    </tr>\n",
       "    <tr>\n",
       "      <th>232</th>\n",
       "      <td>100% Corpus</td>\n",
       "      <td>9</td>\n",
       "      <td>symmetric</td>\n",
       "      <td>0.61</td>\n",
       "      <td>0.434126</td>\n",
       "    </tr>\n",
       "  </tbody>\n",
       "</table>\n",
       "</div>"
      ],
      "text/plain": [
       "    Validation_Set  Topics      Alpha                Beta  Coherence\n",
       "113    100% Corpus       5  symmetric  0.9099999999999999   0.466149\n",
       "98     100% Corpus       5       0.31  0.9099999999999999   0.451412\n",
       "218    100% Corpus       9       0.31  0.9099999999999999   0.443292\n",
       "262    100% Corpus      10  symmetric                0.61   0.434213\n",
       "232    100% Corpus       9  symmetric                0.61   0.434126"
      ]
     },
     "execution_count": 75,
     "metadata": {},
     "output_type": "execute_result"
    }
   ],
   "source": [
    "#tuning = pd.read_csv('lda_tuning_result')\n",
    "tuning.head()\n",
    "\n",
    "sc=tuning.sort_values('Coherence', ascending=False)\n",
    "sc.head()"
   ]
  },
  {
   "cell_type": "code",
   "execution_count": 78,
   "metadata": {},
   "outputs": [
    {
     "data": {
      "text/plain": [
       "array([0.01, 0.31, 0.61, 0.91])"
      ]
     },
     "execution_count": 78,
     "metadata": {},
     "output_type": "execute_result"
    }
   ],
   "source": [
    "np.arange(0.01, 1, 0.3)"
   ]
  },
  {
   "cell_type": "markdown",
   "metadata": {},
   "source": [
    "# FINAL MODEL TRAINING"
   ]
  },
  {
   "cell_type": "markdown",
   "metadata": {},
   "source": [
    "Based on external evaluation (Code to be added from Excel based analysis), train the final model"
   ]
  },
  {
   "cell_type": "code",
   "execution_count": 77,
   "metadata": {},
   "outputs": [],
   "source": [
    "lda_model = gensim.models.LdaMulticore(corpus=corpus,\n",
    "                                           id2word=id2word,\n",
    "                                           num_topics=5, \n",
    "                                           random_state=100,\n",
    "                                           chunksize=100,\n",
    "                                           passes=10,\n",
    "                                           eta=0.91)"
   ]
  },
  {
   "cell_type": "code",
   "execution_count": 71,
   "metadata": {},
   "outputs": [],
   "source": [
    "from pprint import pprint"
   ]
  },
  {
   "cell_type": "code",
   "execution_count": 72,
   "metadata": {},
   "outputs": [
    {
     "name": "stdout",
     "output_type": "stream",
     "text": [
      "[(0,\n",
      "  '0.012*\"use\" + 0.009*\"try\" + 0.009*\"work\" + 0.008*\"get\" + 0.008*\"card\" + '\n",
      "  '0.006*\"want\" + 0.006*\"set\" + 0.006*\"need\" + 0.005*\"file\" + 0.005*\"new\"'),\n",
      " (1,\n",
      "  '0.014*\"go\" + 0.013*\"feel\" + 0.012*\"get\" + 0.011*\"know\" + 0.010*\"want\" + '\n",
      "  '0.010*\"time\" + 0.009*\"think\" + 0.008*\"say\" + 0.008*\"really\" + 0.007*\"make\"'),\n",
      " (2,\n",
      "  '0.011*\"play\" + 0.010*\"game\" + 0.010*\"get\" + 0.010*\"think\" + 0.010*\"make\" + '\n",
      "  '0.009*\"see\" + 0.008*\"know\" + 0.008*\"look\" + 0.007*\"good\" + 0.007*\"really\"'),\n",
      " (3,\n",
      "  '0.011*\"people\" + 0.009*\"year\" + 0.008*\"work\" + 0.008*\"know\" + 0.008*\"want\" '\n",
      "  '+ 0.006*\"think\" + 0.006*\"question\" + 0.006*\"thank\" + 0.005*\"good\" + '\n",
      "  '0.005*\"read\"'),\n",
      " (4,\n",
      "  '0.019*\"get\" + 0.015*\"go\" + 0.012*\"day\" + 0.011*\"time\" + 0.009*\"work\" + '\n",
      "  '0.008*\"take\" + 0.008*\"week\" + 0.007*\"look\" + 0.007*\"thank\" + 0.006*\"month\"')]\n"
     ]
    }
   ],
   "source": [
    "#Print the keyword in the 10 topics\n",
    "\n",
    "pprint(lda_model.print_topics())\n",
    "doc_lda = lda_model[corpus]"
   ]
  },
  {
   "cell_type": "code",
   "execution_count": 73,
   "metadata": {},
   "outputs": [],
   "source": [
    "import pyLDAvis.gensim\n",
    "import pickle \n",
    "import pyLDAvis"
   ]
  },
  {
   "cell_type": "code",
   "execution_count": 74,
   "metadata": {},
   "outputs": [
    {
     "name": "stderr",
     "output_type": "stream",
     "text": [
      "C:\\Users\\USER-PC\\Anaconda3\\lib\\site-packages\\pyLDAvis\\_prepare.py:257: FutureWarning: Sorting because non-concatenation axis is not aligned. A future version\n",
      "of pandas will change to not sort by default.\n",
      "\n",
      "To accept the future behavior, pass 'sort=False'.\n",
      "\n",
      "To retain the current behavior and silence the warning, pass 'sort=True'.\n",
      "\n",
      "  return pd.concat([default_term_info] + list(topic_dfs))\n"
     ]
    },
    {
     "data": {
      "text/html": [
       "\n",
       "<link rel=\"stylesheet\" type=\"text/css\" href=\"https://cdn.rawgit.com/bmabey/pyLDAvis/files/ldavis.v1.0.0.css\">\n",
       "\n",
       "\n",
       "<div id=\"ldavis_el219214605582354721003368392\"></div>\n",
       "<script type=\"text/javascript\">\n",
       "\n",
       "var ldavis_el219214605582354721003368392_data = {\"mdsDat\": {\"x\": [0.1443440902903712, 0.03627591726251517, 0.008358307309008065, 0.020240955748896755, -0.20921927061079137], \"y\": [0.05364435276704406, -0.004477595209166207, 0.10721905251588876, -0.17953399587985847, 0.023148185806092], \"topics\": [1, 2, 3, 4, 5], \"cluster\": [1, 1, 1, 1, 1], \"Freq\": [27.31007957458496, 25.708877563476562, 17.351350784301758, 14.979535102844238, 14.650152206420898]}, \"tinfo\": {\"Category\": [\"Default\", \"Default\", \"Default\", \"Default\", \"Default\", \"Default\", \"Default\", \"Default\", \"Default\", \"Default\", \"Default\", \"Default\", \"Default\", \"Default\", \"Default\", \"Default\", \"Default\", \"Default\", \"Default\", \"Default\", \"Default\", \"Default\", \"Default\", \"Default\", \"Default\", \"Default\", \"Default\", \"Default\", \"Default\", \"Default\", \"Topic1\", \"Topic1\", \"Topic1\", \"Topic1\", \"Topic1\", \"Topic1\", \"Topic1\", \"Topic1\", \"Topic1\", \"Topic1\", \"Topic1\", \"Topic1\", \"Topic1\", \"Topic1\", \"Topic1\", \"Topic1\", \"Topic1\", \"Topic1\", \"Topic1\", \"Topic1\", \"Topic1\", \"Topic1\", \"Topic1\", \"Topic1\", \"Topic1\", \"Topic1\", \"Topic1\", \"Topic1\", \"Topic1\", \"Topic1\", \"Topic1\", \"Topic1\", \"Topic1\", \"Topic1\", \"Topic1\", \"Topic1\", \"Topic1\", \"Topic1\", \"Topic1\", \"Topic1\", \"Topic1\", \"Topic1\", \"Topic1\", \"Topic1\", \"Topic1\", \"Topic1\", \"Topic1\", \"Topic1\", \"Topic1\", \"Topic1\", \"Topic1\", \"Topic1\", \"Topic1\", \"Topic1\", \"Topic1\", \"Topic1\", \"Topic1\", \"Topic1\", \"Topic1\", \"Topic1\", \"Topic1\", \"Topic1\", \"Topic1\", \"Topic1\", \"Topic1\", \"Topic1\", \"Topic1\", \"Topic1\", \"Topic1\", \"Topic1\", \"Topic1\", \"Topic1\", \"Topic1\", \"Topic1\", \"Topic1\", \"Topic1\", \"Topic1\", \"Topic1\", \"Topic1\", \"Topic1\", \"Topic1\", \"Topic1\", \"Topic1\", \"Topic1\", \"Topic1\", \"Topic1\", \"Topic1\", \"Topic1\", \"Topic1\", \"Topic2\", \"Topic2\", \"Topic2\", \"Topic2\", \"Topic2\", \"Topic2\", \"Topic2\", \"Topic2\", \"Topic2\", \"Topic2\", \"Topic2\", \"Topic2\", \"Topic2\", \"Topic2\", \"Topic2\", \"Topic2\", \"Topic2\", \"Topic2\", \"Topic2\", \"Topic2\", \"Topic2\", \"Topic2\", \"Topic2\", \"Topic2\", \"Topic2\", \"Topic2\", \"Topic2\", \"Topic2\", \"Topic2\", \"Topic2\", \"Topic2\", \"Topic2\", \"Topic2\", \"Topic2\", \"Topic2\", \"Topic2\", \"Topic2\", \"Topic2\", \"Topic2\", \"Topic2\", \"Topic2\", \"Topic2\", \"Topic2\", \"Topic2\", \"Topic2\", \"Topic2\", \"Topic2\", \"Topic2\", \"Topic2\", \"Topic2\", \"Topic2\", \"Topic2\", \"Topic2\", \"Topic2\", \"Topic2\", \"Topic2\", \"Topic2\", \"Topic2\", \"Topic2\", \"Topic2\", \"Topic2\", \"Topic2\", \"Topic2\", \"Topic2\", \"Topic2\", \"Topic2\", \"Topic2\", \"Topic2\", \"Topic2\", \"Topic2\", \"Topic2\", \"Topic2\", \"Topic2\", \"Topic2\", \"Topic2\", \"Topic2\", \"Topic2\", \"Topic2\", \"Topic2\", \"Topic2\", \"Topic2\", \"Topic2\", \"Topic2\", \"Topic2\", \"Topic3\", \"Topic3\", \"Topic3\", \"Topic3\", \"Topic3\", \"Topic3\", \"Topic3\", \"Topic3\", \"Topic3\", \"Topic3\", \"Topic3\", \"Topic3\", \"Topic3\", \"Topic3\", \"Topic3\", \"Topic3\", \"Topic3\", \"Topic3\", \"Topic3\", \"Topic3\", \"Topic3\", \"Topic3\", \"Topic3\", \"Topic3\", \"Topic3\", \"Topic3\", \"Topic3\", \"Topic3\", \"Topic3\", \"Topic3\", \"Topic3\", \"Topic3\", \"Topic3\", \"Topic3\", \"Topic3\", \"Topic3\", \"Topic3\", \"Topic3\", \"Topic3\", \"Topic3\", \"Topic3\", \"Topic3\", \"Topic3\", \"Topic3\", \"Topic3\", \"Topic3\", \"Topic3\", \"Topic3\", \"Topic3\", \"Topic3\", \"Topic3\", \"Topic3\", \"Topic3\", \"Topic3\", \"Topic3\", \"Topic3\", \"Topic3\", \"Topic3\", \"Topic3\", \"Topic3\", \"Topic3\", \"Topic3\", \"Topic3\", \"Topic3\", \"Topic3\", \"Topic3\", \"Topic3\", \"Topic3\", \"Topic3\", \"Topic3\", \"Topic3\", \"Topic3\", \"Topic3\", \"Topic3\", \"Topic3\", \"Topic3\", \"Topic3\", \"Topic3\", \"Topic3\", \"Topic3\", \"Topic3\", \"Topic3\", \"Topic4\", \"Topic4\", \"Topic4\", \"Topic4\", \"Topic4\", \"Topic4\", \"Topic4\", \"Topic4\", \"Topic4\", \"Topic4\", \"Topic4\", \"Topic4\", \"Topic4\", \"Topic4\", \"Topic4\", \"Topic4\", \"Topic4\", \"Topic4\", \"Topic4\", \"Topic4\", \"Topic4\", \"Topic4\", \"Topic4\", \"Topic4\", \"Topic4\", \"Topic4\", \"Topic4\", \"Topic4\", \"Topic4\", \"Topic4\", \"Topic4\", \"Topic4\", \"Topic4\", \"Topic4\", \"Topic4\", \"Topic4\", \"Topic4\", \"Topic4\", \"Topic4\", \"Topic4\", \"Topic4\", \"Topic4\", \"Topic4\", \"Topic4\", \"Topic4\", \"Topic4\", \"Topic4\", \"Topic4\", \"Topic4\", \"Topic4\", \"Topic4\", \"Topic4\", \"Topic4\", \"Topic4\", \"Topic4\", \"Topic4\", \"Topic4\", \"Topic4\", \"Topic4\", \"Topic4\", \"Topic4\", \"Topic4\", \"Topic4\", \"Topic4\", \"Topic4\", \"Topic4\", \"Topic4\", \"Topic4\", \"Topic4\", \"Topic4\", \"Topic4\", \"Topic4\", \"Topic4\", \"Topic4\", \"Topic4\", \"Topic4\", \"Topic4\", \"Topic4\", \"Topic4\", \"Topic4\", \"Topic4\", \"Topic4\", \"Topic4\", \"Topic5\", \"Topic5\", \"Topic5\", \"Topic5\", \"Topic5\", \"Topic5\", \"Topic5\", \"Topic5\", \"Topic5\", \"Topic5\", \"Topic5\", \"Topic5\", \"Topic5\", \"Topic5\", \"Topic5\", \"Topic5\", \"Topic5\", \"Topic5\", \"Topic5\", \"Topic5\", \"Topic5\", \"Topic5\", \"Topic5\", \"Topic5\", \"Topic5\", \"Topic5\", \"Topic5\", \"Topic5\", \"Topic5\", \"Topic5\", \"Topic5\", \"Topic5\", \"Topic5\", \"Topic5\", \"Topic5\", \"Topic5\", \"Topic5\", \"Topic5\", \"Topic5\", \"Topic5\", \"Topic5\", \"Topic5\", \"Topic5\", \"Topic5\", \"Topic5\", \"Topic5\", \"Topic5\", \"Topic5\", \"Topic5\", \"Topic5\", \"Topic5\", \"Topic5\", \"Topic5\", \"Topic5\", \"Topic5\", \"Topic5\", \"Topic5\", \"Topic5\", \"Topic5\", \"Topic5\", \"Topic5\", \"Topic5\", \"Topic5\", \"Topic5\", \"Topic5\", \"Topic5\", \"Topic5\", \"Topic5\", \"Topic5\", \"Topic5\", \"Topic5\", \"Topic5\", \"Topic5\", \"Topic5\", \"Topic5\", \"Topic5\", \"Topic5\", \"Topic5\"], \"Freq\": [2783.0, 3318.0, 4011.0, 5218.0, 1185.0, 4092.0, 2336.0, 4660.0, 4516.0, 5707.0, 2009.0, 945.0, 860.0, 1157.0, 1536.0, 2494.0, 1028.0, 1103.0, 913.0, 11706.0, 1216.0, 1842.0, 1158.0, 2100.0, 689.0, 1711.0, 1501.0, 1125.0, 10132.0, 1137.0, 421.0631103515625, 500.6457824707031, 390.22198486328125, 279.5075378417969, 537.10400390625, 237.4907684326172, 212.4791717529297, 194.6229248046875, 175.3358612060547, 173.4022674560547, 179.19207763671875, 172.32681274414062, 160.12112426757812, 142.3871612548828, 132.65151977539062, 127.11642456054688, 123.93515014648438, 125.48213195800781, 117.38018798828125, 115.45044708251953, 113.80908203125, 135.5546112060547, 157.98793029785156, 101.9606704711914, 98.7156982421875, 98.81707000732422, 97.49983215332031, 94.40230560302734, 90.94392395019531, 88.4257583618164, 395.9017028808594, 791.0469970703125, 141.08319091796875, 652.9384155273438, 449.1507873535156, 149.3004913330078, 152.58966064453125, 402.6666259765625, 552.4434204101562, 351.8499755859375, 323.8108825683594, 600.4642944335938, 486.6457824707031, 246.02891540527344, 225.93890380859375, 273.0797424316406, 358.4700012207031, 531.7642211914062, 3931.529296875, 501.3016357421875, 373.34375, 623.58349609375, 1315.3724365234375, 259.4222106933594, 910.4314575195312, 671.8800048828125, 492.95849609375, 1076.129150390625, 1509.24365234375, 1177.8427734375, 1113.761474609375, 1571.526123046875, 4093.82177734375, 2474.00537109375, 1996.8531494140625, 3121.048095703125, 2019.43359375, 2361.732177734375, 2714.191162109375, 2837.58740234375, 2037.0362548828125, 2796.387939453125, 3637.0009765625, 2085.304443359375, 1042.6507568359375, 1594.0765380859375, 1953.9300537109375, 1775.7139892578125, 2131.450439453125, 1627.9818115234375, 1333.3763427734375, 1470.57080078125, 1156.0794677734375, 1339.55224609375, 1375.361572265625, 1333.796875, 1259.1251220703125, 1205.705322265625, 1195.0069580078125, 698.32275390625, 1155.544189453125, 291.87274169921875, 275.302978515625, 251.57376098632812, 202.85679626464844, 193.49269104003906, 165.31556701660156, 193.29739379882812, 129.7296142578125, 118.57613372802734, 100.1592025756836, 122.98919677734375, 93.36286926269531, 93.75020599365234, 92.74337768554688, 92.57256317138672, 92.3652572631836, 107.875732421875, 80.39534759521484, 79.73265838623047, 77.8544692993164, 78.64450073242188, 76.6597671508789, 74.29417419433594, 83.45015716552734, 71.93417358398438, 76.67476654052734, 68.7004165649414, 66.52218627929688, 2742.40576171875, 1084.0751953125, 537.1167602539062, 225.76548767089844, 120.49004364013672, 132.81967163085938, 2983.8779296875, 1074.185546875, 318.5864562988281, 118.96065521240234, 1026.8760986328125, 262.5750732421875, 509.2843933105469, 396.60443115234375, 135.9149627685547, 220.4931640625, 425.1307373046875, 442.48406982421875, 220.6217803955078, 385.7412414550781, 1139.1070556640625, 192.1619110107422, 412.988037109375, 603.2578735351562, 350.29302978515625, 421.2489318847656, 828.5603637695312, 616.475341796875, 1271.5701904296875, 2703.978271484375, 2381.60400390625, 2698.304443359375, 665.2694702148438, 1940.2767333984375, 2102.23046875, 1921.81201171875, 2338.13916015625, 1352.2259521484375, 2722.71435546875, 1630.05224609375, 1624.0526123046875, 1313.5382080078125, 966.5188598632812, 1154.7720947265625, 1085.0654296875, 1197.8406982421875, 1609.3299560546875, 1608.513671875, 1803.2923583984375, 1241.695556640625, 1175.93359375, 1146.341796875, 1169.654541015625, 1163.63623046875, 944.7251586914062, 252.13096618652344, 204.71755981445312, 184.73440551757812, 167.9506072998047, 142.69004821777344, 127.00743103027344, 118.99686431884766, 112.87660217285156, 95.86373138427734, 92.92827606201172, 87.72293853759766, 87.49383544921875, 85.83531951904297, 71.08387756347656, 74.76488494873047, 71.6495132446289, 71.10452270507812, 66.10697174072266, 64.54483795166016, 62.051353454589844, 61.17992401123047, 63.228633880615234, 56.16767883300781, 55.43769073486328, 54.60997772216797, 57.36152648925781, 53.76371383666992, 51.94485092163086, 51.42488098144531, 153.06756591796875, 204.70248413085938, 166.9075927734375, 142.9563751220703, 155.92825317382812, 146.2648162841797, 111.01950073242188, 238.08038330078125, 1101.0458984375, 212.1783447265625, 360.65057373046875, 1433.8369140625, 763.0504150390625, 2169.224609375, 241.8709259033203, 202.1563720703125, 292.3550109863281, 771.9912109375, 607.3715209960938, 446.2510681152344, 1021.9510498046875, 1176.64794921875, 3538.8671875, 607.4591674804688, 539.8917846679688, 2774.8779296875, 520.1788330078125, 359.5188293457031, 1144.383544921875, 2041.4219970703125, 1522.6072998046875, 1590.2913818359375, 1272.0921630859375, 886.3303833007812, 505.95751953125, 1286.57470703125, 957.5594482421875, 1040.07470703125, 605.7026977539062, 848.8375244140625, 920.7464599609375, 688.470703125, 842.9878540039062, 948.5736083984375, 952.217529296875, 1004.0328369140625, 941.7177734375, 833.4363403320312, 878.0834350585938, 736.475341796875, 748.1900634765625, 751.9898071289062, 485.4682312011719, 255.02169799804688, 222.14991760253906, 193.88673400878906, 160.47421264648438, 151.93214416503906, 150.2421112060547, 145.45484924316406, 135.37734985351562, 181.9315185546875, 119.26338195800781, 109.8309097290039, 108.12039947509766, 103.98521423339844, 101.4832763671875, 100.7967758178711, 101.76911926269531, 94.30194091796875, 84.8492202758789, 83.48641204833984, 82.90108489990234, 79.37662506103516, 78.08618927001953, 74.78960418701172, 68.9636001586914, 109.41891479492188, 66.27165985107422, 66.59159851074219, 65.9834976196289, 65.36297607421875, 90.57486724853516, 465.609619140625, 224.064453125, 527.6028442382812, 122.07413482666016, 295.44476318359375, 319.79296875, 755.3273315429688, 822.9977416992188, 148.4460906982422, 392.89202880859375, 238.65408325195312, 602.7234497070312, 795.1262817382812, 250.2202911376953, 158.33872985839844, 309.0550842285156, 371.2159729003906, 485.0785217285156, 356.47406005859375, 1798.54345703125, 466.8948059082031, 361.681884765625, 575.25537109375, 297.2125549316406, 1453.8306884765625, 958.1648559570312, 528.7108154296875, 833.5493774414062, 1360.3236083984375, 427.11700439453125, 390.5856628417969, 706.799072265625, 338.9250183105469, 1238.5472412109375, 917.7151489257812, 1248.6158447265625, 592.9255981445312, 967.62548828125, 843.848876953125, 772.2814331054688, 833.0647583007812, 823.3451538085938, 792.4671630859375, 825.2223510742188, 590.427001953125, 787.8182373046875, 832.4100341796875, 764.9927978515625, 631.9406127929688, 585.7877807617188, 615.258056640625, 534.478759765625, 1184.32080078125, 544.297607421875, 351.7951965332031, 352.2699279785156, 294.06988525390625, 227.82769775390625, 331.7802734375, 179.53929138183594, 175.40589904785156, 856.6936645507812, 206.242431640625, 194.812744140625, 171.5364227294922, 164.00119018554688, 152.74462890625, 147.7676239013672, 128.56678771972656, 108.7355728149414, 118.88066864013672, 105.15119934082031, 101.58023071289062, 92.14537048339844, 93.01915740966797, 90.72586059570312, 90.36138916015625, 389.6514587402344, 86.91141510009766, 85.80304718017578, 87.33112335205078, 84.63817596435547, 401.1763610839844, 116.01232147216797, 659.3525390625, 323.9917907714844, 322.243408203125, 300.15374755859375, 549.4492797851562, 140.09481811523438, 280.4938659667969, 208.80307006835938, 283.75250244140625, 234.676513671875, 568.9970703125, 344.7334289550781, 485.7679748535156, 319.2962951660156, 220.43380737304688, 376.44195556640625, 1843.34326171875, 301.27410888671875, 964.5399780273438, 508.26458740234375, 349.6439208984375, 464.58160400390625, 546.8497314453125, 732.6170654296875, 1475.0631103515625, 1469.2421875, 822.4645385742188, 785.0630493164062, 621.267578125, 663.5783081054688, 937.5034790039062, 838.4378662109375, 517.6342163085938, 482.5797424316406, 1192.6749267578125, 813.968017578125, 800.4120483398438, 982.7213745117188, 792.9754638671875, 714.9812622070312, 749.2962036132812, 549.3201904296875, 658.2617797851562, 628.25537109375, 555.193603515625, 529.1242065429688], \"Term\": [\"game\", \"play\", \"day\", \"feel\", \"card\", \"use\", \"week\", \"year\", \"people\", \"work\", \"buy\", \"car\", \"file\", \"character\", \"hour\", \"month\", \"book\", \"season\", \"school\", \"get\", \"job\", \"set\", \"player\", \"run\", \"user\", \"life\", \"watch\", \"video\", \"go\", \"pay\", \"baby\", \"sex\", \"fuck\", \"cry\", \"mom\", \"anxiety\", \"cage\", \"sister\", \"clothe\", \"scare\", \"depression\", \"dress\", \"tea\", \"scared\", \"pet\", \"mouth\", \"smile\", \"shower\", \"uncomfortable\", \"rape\", \"cup\", \"emotion\", \"cancer\", \"skate\", \"milk\", \"stare\", \"horse\", \"bra\", \"breast\", \"nose\", \"mother\", \"sleep\", \"tooth\", \"girl\", \"wake\", \"pregnant\", \"boyfriend\", \"feeling\", \"pain\", \"bed\", \"skin\", \"kid\", \"wear\", \"male\", \"daughter\", \"dog\", \"hurt\", \"woman\", \"feel\", \"relationship\", \"dream\", \"eye\", \"life\", \"symptom\", \"night\", \"man\", \"child\", \"talk\", \"never\", \"bad\", \"friend\", \"tell\", \"go\", \"say\", \"even\", \"know\", \"thing\", \"really\", \"think\", \"want\", \"year\", \"time\", \"get\", \"try\", \"always\", \"day\", \"see\", \"take\", \"make\", \"start\", \"back\", \"come\", \"love\", \"still\", \"much\", \"people\", \"also\", \"find\", \"look\", \"song\", \"character\", \"enemy\", \"album\", \"film\", \"theme\", \"gun\", \"gem\", \"hero\", \"flag\", \"spoiler\", \"anime\", \"dimension\", \"villain\", \"https_wwwyoutubecom\", \"sword\", \"playlist\", \"guitar\", \"blade\", \"fighter\", \"lyric\", \"bass\", \"disc\", \"spotify\", \"sing\", \"alien\", \"quest\", \"spawn\", \"execute\", \"river\", \"game\", \"season\", \"movie\", \"plot\", \"magic\", \"youtube\", \"play\", \"player\", \"weapon\", \"universe\", \"video\", \"series\", \"music\", \"fan\", \"animation\", \"star\", \"color\", \"style\", \"artist\", \"draw\", \"watch\", \"monster\", \"attack\", \"episode\", \"scene\", \"release\", \"level\", \"kill\", \"show\", \"think\", \"see\", \"make\", \"sound\", \"good\", \"look\", \"really\", \"know\", \"seem\", \"get\", \"find\", \"also\", \"first\", \"end\", \"new\", \"well\", \"way\", \"want\", \"time\", \"go\", \"thing\", \"use\", \"much\", \"say\", \"try\", \"car\", \"mile\", \"truck\", \"bike\", \"insurance\", \"delivery\", \"mission\", \"cigarette\", \"pump\", \"cruise\", \"meal\", \"meat\", \"afternoon\", \"loan\", \"workout\", \"signature\", \"tire\", \"lease\", \"parking\", \"commute\", \"chicken\", \"nerve\", \"arrow\", \"brake\", \"dish\", \"chef\", \"coworker\", \"rear\", \"warranty\", \"rental\", \"cook\", \"oil\", \"rent\", \"gas\", \"wheel\", \"park\", \"temperature\", \"ticket\", \"hour\", \"battery\", \"trip\", \"week\", \"pay\", \"day\", \"bag\", \"tomorrow\", \"charge\", \"order\", \"drive\", \"store\", \"buy\", \"month\", \"get\", \"test\", \"minute\", \"go\", \"money\", \"food\", \"back\", \"time\", \"take\", \"work\", \"thank\", \"last\", \"check\", \"look\", \"need\", \"start\", \"call\", \"first\", \"year\", \"ask\", \"come\", \"good\", \"say\", \"know\", \"want\", \"also\", \"make\", \"still\", \"help\", \"try\", \"student\", \"interview\", \"career\", \"graduate\", \"participate\", \"science\", \"industry\", \"meme\", \"culture\", \"government\", \"survey\", \"resume\", \"university\", \"chinese\", \"military\", \"political\", \"locate\", \"marketing\", \"education\", \"nation\", \"spanish\", \"economic\", \"french\", \"psychology\", \"volunteer\", \"author\", \"politic\", \"crime\", \"korean\", \"citizen\", \"international\", \"discuss\", \"teacher\", \"study\", \"society\", \"language\", \"college\", \"school\", \"book\", \"german\", \"country\", \"article\", \"class\", \"job\", \"score\", \"social\", \"business\", \"community\", \"interested\", \"apply\", \"people\", \"company\", \"program\", \"learn\", \"interest\", \"year\", \"question\", \"write\", \"read\", \"work\", \"information\", \"group\", \"experience\", \"research\", \"want\", \"thank\", \"know\", \"post\", \"think\", \"good\", \"help\", \"also\", \"take\", \"find\", \"look\", \"ask\", \"make\", \"go\", \"time\", \"much\", \"really\", \"get\", \"many\", \"card\", \"deck\", \"tab\", \"server\", \"coin\", \"wallet\", \"button\", \"install\", \"transaction\", \"file\", \"output\", \"folder\", \"port\", \"storage\", \"database\", \"enable\", \"tab_tab\", \"browser\", \"variable\", \"bitcoin\", \"btc\", \"password\", \"disable\", \"usb\", \"mining\", \"app\", \"query\", \"token\", \"restart\", \"hardware\", \"error\", \"mouse\", \"user\", \"device\", \"download\", \"setting\", \"datum\", \"default\", \"network\", \"log\", \"upgrade\", \"instal\", \"account\", \"click\", \"value\", \"code\", \"display\", \"access\", \"use\", \"computer\", \"set\", \"update\", \"screen\", \"site\", \"create\", \"issue\", \"try\", \"work\", \"run\", \"buy\", \"add\", \"problem\", \"need\", \"new\", \"send\", \"option\", \"get\", \"thank\", \"help\", \"want\", \"find\", \"way\", \"make\", \"change\", \"look\", \"go\", \"also\", \"seem\"], \"Total\": [2783.0, 3318.0, 4011.0, 5218.0, 1185.0, 4092.0, 2336.0, 4660.0, 4516.0, 5707.0, 2009.0, 945.0, 860.0, 1157.0, 1536.0, 2494.0, 1028.0, 1103.0, 913.0, 11706.0, 1216.0, 1842.0, 1158.0, 2100.0, 689.0, 1711.0, 1501.0, 1125.0, 10132.0, 1137.0, 421.8525695800781, 501.69110107421875, 391.17706298828125, 280.29144287109375, 538.619140625, 238.31155395507812, 213.27005004882812, 195.44119262695312, 176.12884521484375, 174.19778442382812, 180.02859497070312, 173.1572265625, 160.90908813476562, 143.2136993408203, 133.46347045898438, 127.91549682617188, 124.71965026855469, 126.28292846679688, 118.1693115234375, 116.23477172851562, 114.60454559326172, 136.52183532714844, 159.16590881347656, 102.7464370727539, 99.50767517089844, 99.61073303222656, 98.30316162109375, 95.18315887451172, 91.73226928710938, 89.22029876708984, 401.0245056152344, 812.2921752929688, 142.82305908203125, 674.8801879882812, 461.1741943359375, 151.39688110351562, 154.93101501464844, 420.4438781738281, 588.5316162109375, 369.10205078125, 339.3911437988281, 650.91162109375, 527.2073974609375, 257.4361267089844, 235.38819885253906, 288.70831298828125, 387.51470947265625, 592.3423461914062, 5218.212890625, 558.8424072265625, 407.1573791503906, 727.2723388671875, 1711.505859375, 274.5329284667969, 1247.12841796875, 871.8302612304688, 607.18798828125, 1621.8402099609375, 2502.17578125, 1865.3310546875, 1767.6524658203125, 2779.688232421875, 10132.658203125, 5444.14892578125, 4234.16259765625, 8182.47119140625, 4438.3876953125, 5606.494140625, 7021.49658203125, 7609.90380859375, 4660.04248046875, 7681.029296875, 11706.5146484375, 5690.5634765625, 1863.6402587890625, 4011.360107421875, 6000.6875, 5078.47998046875, 7244.953125, 4511.32666015625, 3182.087646484375, 3881.36083984375, 2452.276611328125, 3434.124267578125, 4038.7236328125, 4516.01123046875, 5104.8720703125, 5078.62158203125, 6067.2958984375, 699.1119384765625, 1157.2459716796875, 292.68670654296875, 276.1078796386719, 252.3671875, 203.6635284423828, 194.3019561767578, 166.10516357421875, 194.38290405273438, 130.55148315429688, 119.38569641113281, 100.9467544555664, 123.97554016113281, 94.15404510498047, 94.54637908935547, 93.5323257446289, 93.36325073242188, 93.1585922241211, 108.9076156616211, 81.1884994506836, 80.52108001708984, 78.6474380493164, 79.4518814086914, 77.45543670654297, 75.08367156982422, 84.35179901123047, 72.72740173339844, 77.52855682373047, 69.51712799072266, 67.32767486572266, 2783.016357421875, 1103.5328369140625, 544.1280517578125, 228.5030059814453, 122.0342788696289, 134.68829345703125, 3318.3212890625, 1158.3477783203125, 332.3338317871094, 121.36901092529297, 1125.6123046875, 276.4724426269531, 556.615234375, 430.2987365722656, 139.7704620361328, 232.71112060546875, 472.8088684082031, 501.9574279785156, 236.59054565429688, 441.5589904785156, 1501.2236328125, 205.02944946289062, 496.8058166503906, 776.0659790039062, 414.086181640625, 524.4546508789062, 1190.5123291015625, 860.3489379882812, 2159.66748046875, 7021.49658203125, 6000.6875, 7244.953125, 1075.45947265625, 5157.701171875, 6067.2958984375, 5606.494140625, 8182.47119140625, 3545.737060546875, 11706.5146484375, 5078.62158203125, 5104.8720703125, 3662.820068359375, 2263.306640625, 3267.4013671875, 3102.279541015625, 3796.190673828125, 7609.90380859375, 7681.029296875, 10132.658203125, 4438.3876953125, 4092.461181640625, 4038.7236328125, 5444.14892578125, 5690.5634765625, 945.5811157226562, 252.91929626464844, 205.50628662109375, 185.5211181640625, 168.7393035888672, 143.47653198242188, 127.84193420410156, 119.79200744628906, 113.67410278320312, 96.65650177001953, 93.7184066772461, 88.52204895019531, 88.3108139038086, 86.64720153808594, 71.86897277832031, 75.5909652709961, 72.4457778930664, 71.94532775878906, 66.91031646728516, 65.3309097290039, 62.836875915527344, 61.98823928833008, 64.10022735595703, 56.95676040649414, 56.2313346862793, 55.40134811401367, 58.209999084472656, 54.570308685302734, 52.7271614074707, 52.211063385009766, 157.01956176757812, 213.35552978515625, 177.34371948242188, 151.77398681640625, 166.3523712158203, 155.98890686035156, 117.05801391601562, 267.06988525390625, 1536.769287109375, 248.86570739746094, 467.29803466796875, 2336.11962890625, 1137.4049072265625, 4011.360107421875, 305.8651428222656, 247.1603240966797, 390.68109130859375, 1320.9676513671875, 988.5235595703125, 694.6111450195312, 2009.564208984375, 2494.3515625, 11706.5146484375, 1111.4638671875, 966.992919921875, 10132.658203125, 954.3314819335938, 567.5883178710938, 3182.087646484375, 7681.029296875, 5078.47998046875, 5707.26611328125, 4276.373046875, 2580.519775390625, 1068.070068359375, 6067.2958984375, 3796.877685546875, 4511.32666015625, 1751.039306640625, 3662.820068359375, 4660.04248046875, 2445.384033203125, 3881.36083984375, 5157.701171875, 5444.14892578125, 8182.47119140625, 7609.90380859375, 5104.8720703125, 7244.953125, 3434.124267578125, 4138.439453125, 5690.5634765625, 486.26104736328125, 255.8355712890625, 222.94290161132812, 194.67440795898438, 161.2674102783203, 152.7301483154297, 151.03355407714844, 146.24961853027344, 136.17262268066406, 183.14105224609375, 120.0627212524414, 110.62539672851562, 108.91236877441406, 104.79712677001953, 102.27770233154297, 101.58647918701172, 102.60228729248047, 95.10974884033203, 85.64225006103516, 84.2845458984375, 83.6968002319336, 80.1644287109375, 78.88566589355469, 75.57563018798828, 69.75303649902344, 110.67556762695312, 67.06016540527344, 67.38549041748047, 66.77487182617188, 66.15887451171875, 91.78132629394531, 484.1520690917969, 230.54689025878906, 560.4378051757812, 125.80233001708984, 320.7388000488281, 355.8254699707031, 913.3270263671875, 1028.59228515625, 158.73171997070312, 468.9140930175781, 283.7439880371094, 857.7079467773438, 1216.9573974609375, 314.9664306640625, 178.0001220703125, 416.7184143066406, 528.169677734375, 750.8582763671875, 509.3242492675781, 4516.01123046875, 765.6025390625, 545.7988891601562, 1053.9075927734375, 418.2455749511719, 4660.04248046875, 2696.901611328125, 1084.606201171875, 2276.0537109375, 5707.26611328125, 780.6939086914062, 684.9735717773438, 2065.294677734375, 538.9757080078125, 7609.90380859375, 4276.373046875, 8182.47119140625, 1957.720458984375, 7021.49658203125, 5157.701171875, 4138.439453125, 5104.8720703125, 5078.47998046875, 5078.62158203125, 6067.2958984375, 2445.384033203125, 7244.953125, 10132.658203125, 7681.029296875, 4038.7236328125, 5606.494140625, 11706.5146484375, 1860.92529296875, 1185.2835693359375, 545.0869140625, 352.5901794433594, 353.0815124511719, 294.998291015625, 228.613525390625, 333.0981140136719, 180.34352111816406, 176.19961547851562, 860.69873046875, 207.21424865722656, 195.75132751464844, 172.37852478027344, 164.82669067382812, 153.55433654785156, 148.55470275878906, 129.35104370117188, 109.52950286865234, 119.75494384765625, 105.94010162353516, 102.36457061767578, 92.93043518066406, 93.813720703125, 91.51438903808594, 91.15963745117188, 393.1900634765625, 87.7135238647461, 86.59671783447266, 88.13973236083984, 85.43426513671875, 405.8253173828125, 117.41621398925781, 689.3158569335938, 334.8987731933594, 337.52728271484375, 315.35284423828125, 593.513916015625, 143.56942749023438, 298.6336669921875, 219.5002899169922, 306.53497314453125, 251.60348510742188, 660.9837646484375, 390.5366516113281, 580.7706298828125, 371.98980712890625, 239.36233520507812, 466.4579162597656, 4092.461181640625, 368.73394775390625, 1842.24609375, 758.2330322265625, 455.37664794921875, 693.5626220703125, 970.453369140625, 1699.30859375, 5690.5634765625, 5707.26611328125, 2100.08642578125, 2009.564208984375, 1419.1865234375, 1723.92919921875, 3796.877685546875, 3267.4013671875, 1083.662109375, 959.2838745117188, 11706.5146484375, 4276.373046875, 4138.439453125, 7609.90380859375, 5078.62158203125, 3796.190673828125, 7244.953125, 1885.10107421875, 6067.2958984375, 10132.658203125, 5104.8720703125, 3545.737060546875], \"loglift\": [30.0, 29.0, 28.0, 27.0, 26.0, 25.0, 24.0, 23.0, 22.0, 21.0, 20.0, 19.0, 18.0, 17.0, 16.0, 15.0, 14.0, 13.0, 12.0, 11.0, 10.0, 9.0, 8.0, 7.0, 6.0, 5.0, 4.0, 3.0, 2.0, 1.0, 1.2960000038146973, 1.295799970626831, 1.2955000400543213, 1.2950999736785889, 1.2950999736785889, 1.2944999933242798, 1.2941999435424805, 1.2936999797821045, 1.2934000492095947, 1.2933000326156616, 1.2933000326156616, 1.2930999994277954, 1.2929999828338623, 1.292099952697754, 1.2918000221252441, 1.291599988937378, 1.291599988937378, 1.291599988937378, 1.291200041770935, 1.291100025177002, 1.2908999919891357, 1.2907999753952026, 1.2905000448226929, 1.2901999950408936, 1.2898999452590942, 1.2898999452590942, 1.2897000312805176, 1.2897000312805176, 1.2892999649047852, 1.2890000343322754, 1.285099983215332, 1.271399974822998, 1.2856999635696411, 1.2648999691009521, 1.2714999914169312, 1.284000039100647, 1.2826999425888062, 1.254699945449829, 1.2345999479293823, 1.25, 1.2509000301361084, 1.2172000408172607, 1.217900037765503, 1.2525999546051025, 1.2568999528884888, 1.242300033569336, 1.2200000286102295, 1.190000057220459, 1.014799952507019, 1.1892999410629272, 1.2111999988555908, 1.1440999507904053, 1.0347000360488892, 1.2412999868392944, 0.9832000136375427, 1.0374000072479248, 1.0894999504089355, 0.8877000212669373, 0.7924000024795532, 0.8381999731063843, 0.8360000252723694, 0.7275999784469604, 0.39160001277923584, 0.5091999769210815, 0.5462999939918518, 0.33410000801086426, 0.5103999972343445, 0.4334000051021576, 0.3474000096321106, 0.31139999628067017, 0.47040000557899475, 0.2874999940395355, 0.12890000641345978, 0.2939999997615814, 0.7171000242233276, 0.3750999867916107, 0.17589999735355377, 0.24709999561309814, 0.07440000027418137, 0.27869999408721924, 0.42809998989105225, 0.32739999890327454, 0.5458999872207642, 0.3564999997615814, 0.2206999957561493, 0.07829999923706055, -0.10189999639987946, -0.14010000228881836, -0.32679998874664307, 1.357200026512146, 1.3568999767303467, 1.3554999828338623, 1.3553999662399292, 1.3552000522613525, 1.3544000387191772, 1.354200005531311, 1.353600025177002, 1.3526999950408936, 1.3519999980926514, 1.3515000343322754, 1.3504999876022339, 1.3502999544143677, 1.3499000072479248, 1.3499000072479248, 1.3499000072479248, 1.3497999906539917, 1.3497999906539917, 1.3487999439239502, 1.3485000133514404, 1.3485000133514404, 1.3481999635696411, 1.348099946975708, 1.3480000495910645, 1.3478000164031982, 1.347599983215332, 1.3473999500274658, 1.3473000526428223, 1.346500039100647, 1.3463000059127808, 1.3436000347137451, 1.340499997138977, 1.3453999757766724, 1.3463000059127808, 1.3456000089645386, 1.3444000482559204, 1.2520999908447266, 1.2828999757766724, 1.316100001335144, 1.3382999897003174, 1.2664999961853027, 1.3068000078201294, 1.2695000171661377, 1.2768000364303589, 1.330399990081787, 1.3043999671936035, 1.2519999742507935, 1.232200026512146, 1.2884999513626099, 1.2231999635696411, 1.0822999477386475, 1.2934999465942383, 1.1735999584197998, 1.1064000129699707, 1.190999984741211, 1.13919997215271, 0.9958999752998352, 1.024999976158142, 0.8285999894142151, 0.4041000008583069, 0.4341999888420105, 0.37070000171661377, 0.878000020980835, 0.3806999921798706, 0.29840001463890076, 0.28769999742507935, 0.10570000112056732, 0.39430001378059387, -0.10019999742507935, 0.22190000116825104, 0.21310000121593475, 0.3328000009059906, 0.5074999928474426, 0.3181999921798706, 0.3077999949455261, 0.20489999651908875, -0.19529999792575836, -0.20509999990463257, -0.3677999973297119, 0.08449999988079071, 0.1111999973654747, 0.0989999994635582, -0.17949999868869781, -0.2289000004529953, 1.750599980354309, 1.7483999729156494, 1.7476999759674072, 1.7472000122070312, 1.7467999458312988, 1.746000051498413, 1.7450000047683716, 1.7447999715805054, 1.7445000410079956, 1.743299961090088, 1.7430000305175781, 1.742400050163269, 1.7422000169754028, 1.7421000003814697, 1.7404999732971191, 1.7404999732971191, 1.740399956703186, 1.7396999597549438, 1.739400029182434, 1.739400029182434, 1.7388999462127686, 1.7383999824523926, 1.7378000020980835, 1.7374999523162842, 1.7373000383377075, 1.7371000051498413, 1.736799955368042, 1.7366000413894653, 1.7366000413894653, 1.736299991607666, 1.7259999513626099, 1.7101000547409058, 1.6908999681472778, 1.69159996509552, 1.6868000030517578, 1.6871000528335571, 1.6985000371932983, 1.6366000175476074, 1.4180999994277954, 1.5920000076293945, 1.492400050163269, 1.2633999586105347, 1.3523000478744507, 1.1367000341415405, 1.516800045967102, 1.5505000352859497, 1.4615999460220337, 1.214400053024292, 1.2644000053405762, 1.309000015258789, 1.0752999782562256, 1.000100016593933, 0.5551999807357788, 1.1474000215530396, 1.1686999797821045, 0.4562999904155731, 1.144700050354004, 1.2948999404907227, 0.7287999987602234, 0.42640000581741333, 0.5468999743461609, 0.47369998693466187, 0.5390999913215637, 0.6827999949455261, 1.0042999982833862, 0.20059999823570251, 0.37400001287460327, 0.2842000126838684, 0.6898999810218811, 0.28940001130104065, 0.1298999935388565, 0.48399999737739563, 0.22450000047683716, 0.05820000171661377, 0.00800000037997961, -0.3465000092983246, -0.33799999952316284, -0.0608999989926815, -0.3587999939918518, 0.211899995803833, 0.041099999099969864, -0.27230000495910645, 1.8969000577926636, 1.895300030708313, 1.8948999643325806, 1.8944000005722046, 1.8935999870300293, 1.8932000398635864, 1.8932000398635864, 1.8930000066757202, 1.8926000595092773, 1.8918999433517456, 1.891800045967102, 1.8912999629974365, 1.8911999464035034, 1.8906999826431274, 1.8906999826431274, 1.8906999826431274, 1.8903000354766846, 1.8899999856948853, 1.88919997215271, 1.8890000581741333, 1.8889000415802002, 1.8885999917984009, 1.8882999420166016, 1.8880000114440918, 1.8870999813079834, 1.8870999813079834, 1.8867000341415405, 1.8866000175476074, 1.8866000175476074, 1.8863999843597412, 1.8853000402450562, 1.8594000339508057, 1.8700000047683716, 1.8380999565124512, 1.868399977684021, 1.8163000345230103, 1.791700005531311, 1.7085000276565552, 1.6755000352859497, 1.8315000534057617, 1.72160005569458, 1.7253999710083008, 1.545699954032898, 1.4729000329971313, 1.6684000492095947, 1.7813999652862549, 1.5995999574661255, 1.5458999872207642, 1.4615999460220337, 1.541700005531311, 0.9778000116348267, 1.4039000272750854, 1.4869999885559082, 1.2929999828338623, 1.5569000244140625, 0.7336999773979187, 0.8636000156402588, 1.1799999475479126, 0.8939999938011169, 0.4645000100135803, 1.2954000234603882, 1.3367999792099, 0.826200008392334, 1.4345999956130981, 0.08299999684095383, 0.359499990940094, 0.01850000023841858, 0.7039999961853027, -0.08340000361204147, 0.08820000290870667, 0.21979999542236328, 0.08560000360012054, 0.07909999787807465, 0.040800001472234726, -0.09650000184774399, 0.477400004863739, -0.32030001282691956, -0.6007000207901001, -0.4081999957561493, 0.04360000044107437, -0.3601999878883362, -1.0473999977111816, 0.6509000062942505, 1.9198999404907227, 1.9192999601364136, 1.9184999465942383, 1.9184000492095947, 1.9176000356674194, 1.9172999858856201, 1.9168000221252441, 1.916200041770935, 1.916200041770935, 1.916100025177002, 1.9160000085830688, 1.9158999919891357, 1.9157999753952026, 1.9156999588012695, 1.9154000282287598, 1.9154000282287598, 1.9146000146865845, 1.9134000539779663, 1.9134000539779663, 1.9132000207901, 1.9129999876022339, 1.9121999740600586, 1.9121999740600586, 1.9120999574661255, 1.9119000434875488, 1.9117000102996826, 1.9114999771118164, 1.9114999771118164, 1.9114999771118164, 1.9113999605178833, 1.9091999530792236, 1.9086999893188477, 1.8762999773025513, 1.8875999450683594, 1.874400019645691, 1.8712999820709229, 1.8436000347137451, 1.8961999416351318, 1.8581000566482544, 1.8708000183105469, 1.843500018119812, 1.851099967956543, 1.770900011062622, 1.7960000038146973, 1.7421000003814697, 1.7680000066757202, 1.8382999897003174, 1.7063000202178955, 1.1232000589370728, 1.7187000513076782, 1.2735999822616577, 1.5206999778747559, 1.656499981880188, 1.5199999809265137, 1.347100019454956, 1.0793999433517456, 0.5705999732017517, 0.5637000203132629, 0.983299970626831, 0.9807999730110168, 1.094599962234497, 0.9660000205039978, 0.5220000147819519, 0.5605000257492065, 1.1819000244140625, 1.2337000370025635, -0.36320000886917114, 0.26179999113082886, 0.2777999937534332, -0.12620000541210175, 0.06369999796152115, 0.25119999051094055, -0.3481999933719635, 0.6876999735832214, -0.3003000020980835, -0.8598999977111816, -0.29789999127388, 0.018400000408291817], \"logprob\": [30.0, 29.0, 28.0, 27.0, 26.0, 25.0, 24.0, 23.0, 22.0, 21.0, 20.0, 19.0, 18.0, 17.0, 16.0, 15.0, 14.0, 13.0, 12.0, 11.0, 10.0, 9.0, 8.0, 7.0, 6.0, 5.0, 4.0, 3.0, 2.0, 1.0, -6.542799949645996, -6.369699954986572, -6.618899822235107, -6.952600002288818, -6.2993998527526855, -7.115499973297119, -7.2266998291015625, -7.314499855041504, -7.418900012969971, -7.429999828338623, -7.39709997177124, -7.436200141906738, -7.509699821472168, -7.626999855041504, -7.69789981842041, -7.740499973297119, -7.7657999992370605, -7.753399848937988, -7.820199966430664, -7.8368000984191895, -7.851099967956543, -7.676199913024902, -7.523099899291992, -7.960999965667725, -7.993299961090088, -7.992300033569336, -8.00570011138916, -8.038000106811523, -8.075400352478027, -8.103400230407715, -6.604400157928467, -5.912199974060059, -7.636199951171875, -6.104100227355957, -6.4781999588012695, -7.579599857330322, -7.557799816131592, -6.587500095367432, -6.271200180053711, -6.722400188446045, -6.8053998947143555, -6.187900066375732, -6.398099899291992, -7.080100059509277, -7.165299892425537, -6.975800037384033, -6.703700065612793, -6.3094000816345215, -4.308800220489502, -6.3684000968933105, -6.663099765777588, -6.150100231170654, -5.40369987487793, -7.027100086212158, -5.771699905395508, -6.075500011444092, -6.385200023651123, -5.604499816894531, -5.266200065612793, -5.514200210571289, -5.570099830627441, -5.225800037384033, -4.268400192260742, -4.771999835968018, -4.986299991607666, -4.539700031280518, -4.974999904632568, -4.818399906158447, -4.679299831390381, -4.634900093078613, -4.966300010681152, -4.649499893188477, -4.38670015335083, -4.94290018081665, -5.636099815368652, -5.21150016784668, -5.007999897003174, -5.103600025177002, -4.921000003814697, -5.190499782562256, -5.390100002288818, -5.292200088500977, -5.532800197601318, -5.385499954223633, -5.359099864959717, -5.389800071716309, -5.447400093078613, -5.490799903869629, -5.49970006942749, -5.976500034332275, -5.472799777984619, -6.848899841308594, -6.907299995422363, -6.997399806976318, -7.212699890136719, -7.259900093078613, -7.417300224304199, -7.260900020599365, -7.6596999168396, -7.749599933624268, -7.918399810791016, -7.713099956512451, -7.988699913024902, -7.984499931335449, -7.995299816131592, -7.997200012207031, -7.9994001388549805, -7.844200134277344, -8.138199806213379, -8.146499633789062, -8.170299530029297, -8.160200119018555, -8.185799598693848, -8.217100143432617, -8.100899696350098, -8.24940013885498, -8.185600280761719, -8.29539966583252, -8.32759952545166, -4.60860013961792, -5.5366997718811035, -6.238999843597412, -7.1057000160217285, -7.73360013961792, -7.636199951171875, -4.524199962615967, -5.545899868011475, -6.761300086975098, -7.746399879455566, -5.59089994430542, -6.954599857330322, -6.292200088500977, -6.542200088500977, -7.613100051879883, -7.129300117492676, -6.472799777984619, -6.432799816131592, -7.128699779510498, -6.570000171661377, -5.487199783325195, -7.2667999267578125, -6.501800060272217, -6.122799873352051, -6.666399955749512, -6.481900215148926, -5.805500030517578, -6.101200103759766, -5.377200126647949, -4.622700214385986, -4.749599933624268, -4.624800205230713, -6.025000095367432, -4.954599857330322, -4.8744001388549805, -4.964099884033203, -4.768099784851074, -5.315700054168701, -4.615799903869629, -5.128799915313721, -5.132500171661377, -5.344699859619141, -5.651500225067139, -5.473499774932861, -5.535799980163574, -5.4369001388549805, -5.141600131988525, -5.142099857330322, -5.0278000831604, -5.400899887084961, -5.455399990081787, -5.480800151824951, -5.460700035095215, -5.46589994430542, -5.281099796295166, -6.602099895477295, -6.810400009155273, -6.913099765777588, -7.008299827575684, -7.171299934387207, -7.287799835205078, -7.35290002822876, -7.405700206756592, -7.5690999031066895, -7.600200176239014, -7.657800197601318, -7.660399913787842, -7.679599761962891, -7.868100166320801, -7.817699909210205, -7.860199928283691, -7.8678998947143555, -7.940700054168701, -7.964600086212158, -8.003999710083008, -8.018199920654297, -7.985199928283691, -8.103699684143066, -8.116700172424316, -8.131799697875977, -8.082599639892578, -8.14739990234375, -8.18179988861084, -8.191900253295898, -7.101099967956543, -6.810400009155273, -7.014599800109863, -7.16949987411499, -7.082600116729736, -7.146599769592285, -7.422299861907959, -6.65939998626709, -5.127999782562256, -6.774600028991699, -6.244100093841553, -4.863900184631348, -5.494699954986572, -4.449900150299072, -6.643599987030029, -6.822999954223633, -6.453999996185303, -5.482999801635742, -5.722899913787842, -6.031099796295166, -5.202499866485596, -5.061600208282471, -3.960400104522705, -5.722700119018555, -5.84060001373291, -4.20359992980957, -5.877799987792969, -6.247200012207031, -5.089399814605713, -4.5106000900268555, -4.803800106048584, -4.760300159454346, -4.98360013961792, -5.344900131225586, -5.905600070953369, -4.972300052642822, -5.267600059509277, -5.184999942779541, -5.725599765777588, -5.3881001472473145, -5.30679988861084, -5.597499847412109, -5.395100116729736, -5.2769999504089355, -5.273200035095215, -5.220200061798096, -5.284299850463867, -5.406400203704834, -5.354300022125244, -5.530099868774414, -5.514400005340576, -5.509300231933594, -5.799900054931641, -6.443699836730957, -6.581699848175049, -6.717700004577637, -6.906899929046631, -6.961599826812744, -6.972799777984619, -7.005199909210205, -7.077000141143799, -6.781400203704834, -7.203700065612793, -7.286099910736084, -7.301799774169922, -7.340799808502197, -7.365099906921387, -7.3719000816345215, -7.362299919128418, -7.438499927520752, -7.544099807739258, -7.560299873352051, -7.567399978637695, -7.610799789428711, -7.627200126647949, -7.670300006866455, -7.751399993896484, -7.28980016708374, -7.791299819946289, -7.786399841308594, -7.795599937438965, -7.805099964141846, -7.478799819946289, -5.841700077056885, -6.5731000900268555, -5.716700077056885, -7.1803998947143555, -6.296500205993652, -6.217299938201904, -5.357900142669678, -5.27209997177124, -6.984799861907959, -6.011499881744385, -6.510000228881836, -5.583600044250488, -5.30649995803833, -6.462699890136719, -6.920300006866455, -6.251500129699707, -6.06820011138916, -5.8007001876831055, -6.108799934387207, -4.490300178527832, -5.838900089263916, -6.094299793243408, -5.630199909210205, -6.290599822998047, -4.703100204467773, -5.119999885559082, -5.714600086212158, -5.259300231933594, -4.769499778747559, -5.927999973297119, -6.017399787902832, -5.424300193786621, -6.159200191497803, -4.86329984664917, -5.163099765777588, -4.855199813842773, -5.599999904632568, -5.110199928283691, -5.247000217437744, -5.335700035095215, -5.259900093078613, -5.271599769592285, -5.309899806976318, -5.269400119781494, -5.6041998863220215, -5.315800189971924, -5.260700225830078, -5.345200061798096, -5.536200046539307, -5.612100124359131, -5.563000202178955, -5.703700065612793, -4.885900020599365, -5.663300037384033, -6.099699974060059, -6.098400115966797, -6.2789998054504395, -6.534200191497803, -6.158299922943115, -6.77239990234375, -6.7957000732421875, -5.209700107574463, -6.633699893951416, -6.690700054168701, -6.817999839782715, -6.8628997802734375, -6.934000015258789, -6.967100143432617, -7.106299877166748, -7.273900032043457, -7.184700012207031, -7.307400226593018, -7.341899871826172, -7.4394001960754395, -7.429999828338623, -7.454899787902832, -7.459000110626221, -5.997499942779541, -7.497900009155273, -7.510700225830078, -7.493100166320801, -7.524400234222412, -5.968400001525879, -7.209099769592285, -5.471499919891357, -6.18209981918335, -6.1875, -6.258500099182129, -5.653900146484375, -7.020500183105469, -6.326200008392334, -6.621399879455566, -6.314700126647949, -6.5046000480651855, -5.618899822235107, -6.119999885559082, -5.777100086212158, -6.196700096130371, -6.567200183868408, -6.0320000648498535, -4.44350004196167, -6.254799842834473, -5.091100215911865, -5.731800079345703, -6.105899810791016, -5.821599960327148, -5.658599853515625, -5.366199970245361, -4.666299819946289, -4.670300006866455, -5.250500202178955, -5.296999931335449, -5.531000137329102, -5.465099811553955, -5.11959981918335, -5.231200218200684, -5.713500022888184, -5.783599853515625, -4.878799915313721, -5.260900020599365, -5.277699947357178, -5.072500228881836, -5.2870001792907715, -5.390500068664551, -5.343699932098389, -5.654099941253662, -5.473199844360352, -5.519800186157227, -5.643499851226807, -5.6915998458862305]}, \"token.table\": {\"Topic\": [2, 3, 4, 5, 3, 4, 5, 1, 2, 3, 4, 5, 3, 2, 2, 1, 2, 3, 4, 5, 1, 2, 3, 4, 5, 2, 4, 2, 1, 2, 3, 5, 1, 2, 3, 4, 5, 3, 1, 2, 3, 4, 5, 2, 4, 1, 2, 3, 4, 5, 1, 2, 5, 2, 4, 1, 1, 2, 3, 4, 5, 1, 2, 3, 4, 5, 1, 2, 3, 2, 3, 5, 1, 3, 3, 5, 2, 1, 2, 4, 1, 3, 1, 3, 1, 5, 5, 1, 3, 4, 5, 2, 5, 1, 2, 3, 5, 1, 1, 2, 3, 4, 5, 1, 3, 3, 5, 4, 1, 2, 3, 4, 5, 2, 4, 1, 2, 3, 4, 5, 1, 2, 3, 4, 5, 3, 3, 1, 4, 4, 3, 4, 1, 2, 3, 4, 5, 1, 2, 5, 1, 2, 3, 4, 5, 5, 1, 4, 1, 2, 5, 1, 2, 3, 4, 5, 1, 2, 3, 4, 5, 3, 3, 4, 5, 1, 2, 3, 4, 5, 3, 4, 1, 3, 4, 5, 3, 1, 2, 4, 5, 4, 3, 1, 4, 1, 5, 2, 4, 5, 1, 2, 1, 2, 3, 4, 5, 5, 2, 5, 3, 1, 3, 5, 2, 5, 2, 1, 4, 3, 2, 5, 1, 3, 2, 5, 1, 2, 3, 4, 5, 1, 2, 4, 1, 1, 2, 3, 4, 5, 4, 4, 1, 5, 1, 2, 3, 4, 5, 2, 1, 2, 2, 5, 1, 2, 3, 4, 5, 2, 1, 2, 3, 4, 5, 1, 2, 1, 2, 3, 4, 5, 1, 2, 3, 4, 5, 1, 4, 2, 2, 5, 2, 1, 2, 3, 4, 5, 1, 2, 3, 4, 5, 2, 5, 1, 3, 4, 4, 1, 2, 3, 4, 5, 1, 2, 5, 3, 5, 2, 1, 2, 4, 1, 2, 3, 4, 5, 1, 4, 1, 2, 3, 4, 5, 1, 2, 3, 4, 5, 4, 5, 4, 1, 2, 3, 4, 5, 2, 2, 5, 1, 2, 3, 4, 5, 2, 1, 1, 2, 3, 4, 5, 2, 1, 2, 4, 1, 2, 3, 4, 5, 3, 5, 5, 3, 1, 2, 3, 4, 1, 2, 3, 4, 5, 3, 4, 4, 1, 2, 3, 4, 5, 1, 3, 4, 1, 3, 4, 1, 2, 1, 2, 3, 4, 5, 4, 2, 4, 1, 2, 3, 4, 5, 1, 2, 3, 4, 5, 3, 1, 2, 3, 4, 5, 1, 2, 3, 4, 3, 4, 3, 5, 1, 2, 3, 4, 5, 1, 2, 3, 4, 5, 2, 2, 4, 1, 2, 3, 4, 5, 1, 4, 1, 2, 3, 4, 1, 2, 3, 4, 5, 4, 3, 3, 4, 3, 4, 1, 5, 1, 2, 3, 4, 5, 3, 1, 3, 1, 2, 3, 4, 5, 1, 2, 1, 2, 3, 4, 5, 1, 4, 2, 5, 1, 1, 2, 5, 1, 2, 3, 4, 5, 1, 2, 4, 4, 1, 2, 3, 4, 5, 3, 4, 5, 1, 2, 3, 4, 5, 1, 2, 3, 4, 5, 1, 2, 3, 1, 1, 3, 1, 2, 3, 4, 5, 1, 2, 3, 4, 5, 5, 1, 3, 1, 3, 3, 4, 5, 1, 3, 4, 5, 1, 2, 3, 4, 5, 1, 1, 2, 5, 2, 5, 2, 2, 4, 4, 4, 5, 1, 2, 3, 4, 5, 1, 3, 1, 2, 3, 4, 5, 2, 3, 4, 5, 4, 3, 5, 2, 1, 2, 3, 4, 5, 1, 1, 2, 3, 4, 5, 1, 2, 3, 4, 5, 3, 1, 4, 1, 2, 3, 4, 5, 3, 4, 3, 1, 2, 3, 4, 5, 5, 4, 2, 1, 2, 3, 5, 1, 2, 3, 4, 5, 1, 1, 1, 2, 4, 1, 4, 4, 2, 3, 4, 5, 1, 2, 3, 5, 1, 2, 4, 1, 2, 3, 4, 5, 1, 2, 3, 4, 5, 1, 2, 3, 4, 5, 2, 4, 5, 1, 2, 3, 4, 5, 2, 3, 5, 1, 1, 2, 3, 4, 5, 1, 3, 2, 1, 2, 3, 4, 5, 1, 1, 5, 1, 3, 1, 1, 4, 1, 4, 2, 1, 2, 3, 4, 4, 2, 2, 2, 2, 3, 1, 1, 2, 3, 4, 5, 1, 2, 3, 4, 5, 5, 1, 2, 3, 5, 4, 1, 4, 1, 2, 4, 5, 4, 2, 1, 3, 5, 5, 1, 2, 3, 4, 5, 1, 2, 3, 4, 5, 1, 1, 4, 1, 2, 3, 4, 5, 1, 3, 5, 1, 2, 3, 4, 5, 1, 2, 3, 4, 5, 2, 1, 2, 3, 4, 5, 1, 2, 3, 4, 5, 3, 5, 1, 2, 3, 4, 5, 3, 5, 1, 3, 4, 1, 3, 5, 1, 3, 4, 3, 1, 2, 3, 4, 5, 1, 1, 2, 4, 4, 1, 2, 3, 5, 3, 5, 5, 1, 2, 3, 4, 5, 2, 4, 5, 1, 2, 4, 5, 5, 1, 2, 4, 5, 2, 4, 1, 3, 5, 1, 2, 3, 4, 5, 3, 1, 2, 3, 4, 1, 2, 3, 4, 5, 2, 5, 1, 2, 5, 1, 2, 3, 4, 5, 1, 2, 3, 4, 5, 2, 3, 1, 4, 1, 2, 3, 4, 5, 3, 1, 2, 3, 4, 5, 1, 2, 3, 4, 5, 2, 4], \"Freq\": [0.010719080455601215, 0.05788303539156914, 0.12219751626253128, 0.806074857711792, 0.019667653366923332, 0.11800592392683029, 0.8608381152153015, 0.084555484354496, 0.27480530738830566, 0.19306835532188416, 0.00916017685085535, 0.4375746250152588, 0.9851568341255188, 0.9959875345230103, 0.983974277973175, 0.24662713706493378, 0.31812745332717896, 0.16317744553089142, 0.16317744553089142, 0.10871966928243637, 0.5596573948860168, 0.23824340105056763, 0.0633169412612915, 0.1067802682518959, 0.03219505399465561, 0.9730238914489746, 0.02146376296877861, 0.9906212687492371, 0.9944964647293091, 0.005086598452180624, 0.002543299226090312, 0.9918867349624634, 0.053011417388916016, 0.041231103241443634, 0.09031574428081512, 0.6989653706550598, 0.11583976447582245, 0.9828358292579651, 0.04581594839692116, 0.024670125916600227, 0.010572911240160465, 0.8423085808753967, 0.08105898648500443, 0.93410325050354, 0.06340067088603973, 0.3197861611843109, 0.11163890361785889, 0.2813464105129242, 0.24127089977264404, 0.045800577849149704, 0.09460436552762985, 0.8313106894493103, 0.07447578012943268, 0.009035417810082436, 0.9848605394363403, 0.9979789853096008, 0.41890737414360046, 0.15335844457149506, 0.35951241850852966, 0.007856477051973343, 0.060023486614227295, 0.6315233111381531, 0.2149752378463745, 0.10346689075231552, 0.041815634816884995, 0.00804146844893694, 0.15693190693855286, 0.05231063440442085, 0.7911983728408813, 0.9917678236961365, 0.8518650531768799, 0.14465633034706116, 0.9536657929420471, 0.046057723462581635, 0.9971910715103149, 0.9911261200904846, 0.9916661977767944, 0.0038888100534677505, 0.19638490676879883, 0.8001226782798767, 0.9875363111495972, 0.012908970937132835, 0.9875696897506714, 0.9832019805908203, 0.9920173287391663, 0.9951656460762024, 0.9964385032653809, 0.007199105806648731, 0.2063743621110916, 0.741507887840271, 0.04319463670253754, 0.0030021185521036386, 0.9967033267021179, 0.06070968136191368, 0.03980962559580803, 0.5085679888725281, 0.39063194394111633, 0.9940448999404907, 0.24785280227661133, 0.22786466777324677, 0.3460801839828491, 0.0930875763297081, 0.08452123403549194, 0.9926748871803284, 0.006282752379775047, 0.999385416507721, 0.9989171028137207, 0.9957706332206726, 0.2625854015350342, 0.26789015531539917, 0.09919892251491547, 0.07904085516929626, 0.29123106598854065, 0.9989233016967773, 0.0008641205495223403, 0.0025596325285732746, 0.005119265057146549, 0.7474126815795898, 0.010238530114293098, 0.23292654752731323, 0.10205323249101639, 0.11890605837106705, 0.4737516939640045, 0.02434297278523445, 0.27994418144226074, 0.992755651473999, 0.9866817593574524, 0.8119396567344666, 0.18610380589962006, 0.9923936128616333, 0.9933884739875793, 0.982483446598053, 0.017488470301032066, 0.21918882429599762, 0.005829490255564451, 0.7030364871025085, 0.054797206073999405, 0.030726948752999306, 0.08705969154834747, 0.8833997845649719, 0.993590772151947, 0.013441228307783604, 0.08333561569452286, 0.04570017755031586, 0.8575503826141357, 0.9966159462928772, 0.09836282581090927, 0.8993173241615295, 0.04230039194226265, 0.8988832831382751, 0.05710552632808685, 0.3789907991886139, 0.26356735825538635, 0.21719186007976532, 0.10254135727882385, 0.03787331283092499, 0.11359985917806625, 0.11359985917806625, 0.001893330947495997, 0.7024257779121399, 0.06815991550683975, 0.9949348568916321, 0.3069477677345276, 0.6099770665168762, 0.08228813111782074, 0.04881568253040314, 0.032543789595365524, 0.02440784126520157, 0.07864749431610107, 0.8163067102432251, 0.9744008779525757, 0.019105900079011917, 0.029856214299798012, 0.11942485719919205, 0.838106632232666, 0.012795520946383476, 0.9792132377624512, 0.006182677112519741, 0.27719002962112427, 0.15353648364543915, 0.5636540651321411, 0.9942793250083923, 0.9932078719139099, 0.9989601969718933, 0.9913886785507202, 0.9947249293327332, 0.9963899850845337, 0.0016848804662004113, 0.07076498121023178, 0.9249993562698364, 0.9601160883903503, 0.038234710693359375, 0.39737144112586975, 0.02467990852892399, 0.5407143831253052, 0.029915040358901024, 0.006980176083743572, 0.9980059862136841, 0.020895814523100853, 0.9751379489898682, 0.9966786503791809, 0.9942864775657654, 0.029859768226742744, 0.9674565196037292, 0.9921311736106873, 0.9913262128829956, 0.9943125247955322, 0.0371784009039402, 0.9625074863433838, 0.9781023263931274, 0.07519979774951935, 0.9191086888313293, 0.9455910325050354, 0.05195555463433266, 0.044440850615501404, 0.9539969563484192, 0.02717643603682518, 0.8741753697395325, 0.036235250532627106, 0.03849995136260986, 0.022647030651569366, 0.9161076545715332, 0.014736316166818142, 0.06631342321634293, 0.9933168888092041, 0.0880100429058075, 0.024278631433844566, 0.6140470504760742, 0.0020232193637639284, 0.271111398935318, 0.9854744672775269, 0.9925007820129395, 0.996177613735199, 0.9962660074234009, 0.3198859393596649, 0.4272509813308716, 0.1409442275762558, 0.06715837866067886, 0.04550863802433014, 0.9976537823677063, 0.22163064777851105, 0.7769957780838013, 0.009856457822024822, 0.9881098866462708, 0.4716399013996124, 0.24538500607013702, 0.1110018789768219, 0.10651456564664841, 0.06565643101930618, 0.9925611615180969, 0.28954705595970154, 0.09683848172426224, 0.2212759256362915, 0.34232401847839355, 0.049871817231178284, 0.8580004572868347, 0.1416250765323639, 0.04415537044405937, 0.9226148128509521, 0.018591735512018204, 0.01161983422935009, 0.0023239669390022755, 0.7535146474838257, 0.14583536982536316, 0.01858874037861824, 0.08125387132167816, 0.0009581824415363371, 0.9585108160972595, 0.04043345898389816, 0.9853612184524536, 0.003485540160909295, 0.9957026243209839, 0.9985450506210327, 0.2374660074710846, 0.32095322012901306, 0.12936581671237946, 0.15594783425331116, 0.15614473819732666, 0.27082958817481995, 0.358739972114563, 0.23178862035274506, 0.08381520211696625, 0.054875750094652176, 0.9957757592201233, 0.9961618185043335, 0.3453207015991211, 0.6342625021934509, 0.019380243495106697, 0.9887728095054626, 0.6302143931388855, 0.13124752044677734, 0.09277842193841934, 0.1431276798248291, 0.00339433248154819, 0.996990978717804, 0.9852619171142578, 0.014372894540429115, 0.9421904683113098, 0.05270995572209358, 0.993346631526947, 0.012599876150488853, 0.050399504601955414, 0.9323908090591431, 0.31068170070648193, 0.23260553181171417, 0.3023103177547455, 0.05253485217690468, 0.10190907120704651, 0.9675791263580322, 0.031116634607315063, 0.40404006838798523, 0.1779394894838333, 0.2738669216632843, 0.08211073279380798, 0.0619778148829937, 0.2247125208377838, 0.37613657116889954, 0.18399670720100403, 0.16363880038261414, 0.051573362201452255, 0.9937695264816284, 0.005460272077471018, 0.9965357184410095, 0.016059013083577156, 0.28760233521461487, 0.03211802616715431, 0.570824921131134, 0.09343425929546356, 0.9875632524490356, 0.9932993054389954, 0.9949169754981995, 0.26990851759910583, 0.1691458821296692, 0.1807444542646408, 0.18654374778270721, 0.19330957531929016, 0.9928856492042542, 0.9867434501647949, 0.23686054348945618, 0.03123435750603676, 0.7164380550384521, 0.00780858937650919, 0.00780858937650919, 0.994221031665802, 0.9238358736038208, 0.07225532084703445, 0.9931567907333374, 0.028180059045553207, 0.017932765185832977, 0.08582108467817307, 0.5469493269920349, 0.32150885462760925, 0.06359212100505829, 0.934009313583374, 0.9980952143669128, 0.9956186413764954, 0.12911075353622437, 0.12911075353622437, 0.031082218512892723, 0.7101091146469116, 0.057267796248197556, 0.21442128717899323, 0.049276940524578094, 0.6459274888038635, 0.031963422894477844, 0.010895462706685066, 0.9914870858192444, 0.9967339634895325, 0.21773561835289001, 0.02589288353919983, 0.285998672246933, 0.038839325308799744, 0.431351900100708, 0.09942829608917236, 0.24651643633842468, 0.653268575668335, 0.9217841029167175, 0.003072613850235939, 0.07374273240566254, 0.2824435532093048, 0.7159885764122009, 0.3814251124858856, 0.2857327461242676, 0.12270131707191467, 0.1526433676481247, 0.057562071830034256, 0.9883957505226135, 0.0779450461268425, 0.9197515249252319, 0.377055823802948, 0.1732209175825119, 0.3433416783809662, 0.06781579554080963, 0.03797684609889984, 0.11386197805404663, 0.2960411310195923, 0.025618944317102432, 0.5455886125564575, 0.01897699572145939, 0.986860454082489, 0.0697178840637207, 0.6963388323783875, 0.07727765291929245, 0.11003665626049042, 0.047038573771715164, 0.7683292627334595, 0.037393972277641296, 0.006427088752388954, 0.18755413591861725, 0.9925305843353271, 0.9941298961639404, 0.04555802792310715, 0.9521627426147461, 0.19695758819580078, 0.34644758701324463, 0.21212086081504822, 0.1359749138355255, 0.10845029354095459, 0.4713987112045288, 0.3857639729976654, 0.02528262883424759, 0.11703410744667053, 0.0004077843332197517, 0.9935286641120911, 0.983330249786377, 0.008194418624043465, 0.29413577914237976, 0.37239715456962585, 0.12118780612945557, 0.1087653711438179, 0.10338231176137924, 0.9555768370628357, 0.04272904619574547, 0.7707922458648682, 0.05505658686161041, 0.0011470122262835503, 0.1720518320798874, 0.2273062765598297, 0.3406907320022583, 0.0671708881855011, 0.28695401549339294, 0.07791822403669357, 0.9883319139480591, 0.9923344254493713, 0.9941025972366333, 0.9914555549621582, 0.9963652491569519, 0.9875075221061707, 0.9948981404304504, 0.9872790575027466, 0.2595675587654114, 0.1303008496761322, 0.5584322214126587, 0.04550188407301903, 0.006204802542924881, 0.9934142827987671, 0.996993899345398, 0.0018565994687378407, 0.08382831513881683, 0.0010478539625182748, 0.5448840260505676, 0.1728958934545517, 0.1969965398311615, 0.05852817744016647, 0.9364508390426636, 0.4221538007259369, 0.000400905788410455, 0.4718661308288574, 0.08980289846658707, 0.016036231070756912, 0.987470805644989, 0.009974452666938305, 0.008516711182892323, 0.9879385232925415, 0.992842972278595, 0.005513408221304417, 0.9869000315666199, 0.007351210806518793, 0.3404541015625, 0.28375300765037537, 0.1753029078245163, 0.15648508071899414, 0.044073328375816345, 0.05749034136533737, 0.914455771446228, 0.02694859728217125, 0.9847593903541565, 0.20148134231567383, 0.172773540019989, 0.252312570810318, 0.1266830414533615, 0.24704509973526, 0.984057605266571, 0.06027451530098915, 0.9376035928726196, 0.6030751466751099, 0.17225009202957153, 0.13827964663505554, 0.0619460865855217, 0.024378782138228416, 0.13803018629550934, 0.3534919321537018, 0.18944719433784485, 0.06243493780493736, 0.2564729154109955, 0.7296762466430664, 0.01683868281543255, 0.2525802552700043, 0.9863226413726807, 0.03749609738588333, 0.9608375430107117, 0.045867547392845154, 0.07505598664283752, 0.26269596815109253, 0.11362642794847488, 0.5035005807876587, 0.018925519660115242, 0.20742370188236237, 0.5844200849533081, 0.02498168684542179, 0.16427351534366608, 0.9941401481628418, 0.9379275441169739, 0.0594700425863266, 0.05769640952348709, 0.9359639883041382, 0.986395001411438, 0.9921409487724304, 0.989987850189209, 0.0008791943546384573, 0.6708253026008606, 0.23826166987419128, 0.0905570238828659, 0.2953934073448181, 0.23494184017181396, 0.05757293105125427, 0.39836040139198303, 0.013728929683566093, 0.996527373790741, 0.053641580045223236, 0.8992498517036438, 0.04701172187924385, 0.927182674407959, 0.07251708209514618, 0.9961092472076416, 0.9890460968017578, 0.008752619847655296, 0.984190821647644, 0.9942268133163452, 0.9978041052818298, 0.184908926486969, 0.294730544090271, 0.14608827233314514, 0.30290329456329346, 0.07202254235744476, 0.9841682314872742, 0.013210311532020569, 0.2610315978527069, 0.12529516220092773, 0.19374345242977142, 0.03480421379208565, 0.38516661524772644, 0.001832176698371768, 0.007328706793487072, 0.6632479429244995, 0.32612743973731995, 0.9923833608627319, 0.9940698742866516, 0.9918652772903442, 0.9899982213973999, 0.0904741957783699, 0.22655628621578217, 0.17130769789218903, 0.3552224636077881, 0.15610507130622864, 0.9893769025802612, 0.17574277520179749, 0.287339448928833, 0.08611395955085754, 0.36642369627952576, 0.08479589223861694, 0.421297162771225, 0.3428167402744293, 0.11468842625617981, 0.10452164709568024, 0.016766270622611046, 0.9895491003990173, 0.896496057510376, 0.10199655592441559, 0.017160683870315552, 0.802738606929779, 0.003813485149294138, 0.001906742574647069, 0.17351357638835907, 0.9416741728782654, 0.05638767406344414, 0.9768044948577881, 0.05937187746167183, 0.06122725084424019, 0.16883878409862518, 0.6289708614349365, 0.08163633197546005, 0.9870690107345581, 0.9943467378616333, 0.9951331615447998, 0.05809284746646881, 0.28903573751449585, 0.26141780614852905, 0.3914124667644501, 0.45443281531333923, 0.214909628033638, 0.17486663162708282, 0.09092330187559128, 0.06502393633127213, 0.9931240081787109, 0.9915252327919006, 0.1521422415971756, 0.8452346920967102, 0.002414956223219633, 0.1718989908695221, 0.8266480565071106, 0.995219349861145, 0.08254847675561905, 0.09207330644130707, 0.7937353849411011, 0.0317494161427021, 0.0043919687159359455, 0.18007071316242218, 0.04611567035317421, 0.76859450340271, 0.016311250627040863, 0.9822997450828552, 0.0009061805321834981, 0.3256293535232544, 0.3969545066356659, 0.11015404760837555, 0.08665673434734344, 0.08065742254257202, 0.24367289245128632, 0.38130295276641846, 0.1384761482477188, 0.08714690059423447, 0.14919324219226837, 0.09227968752384186, 0.04337145388126373, 0.2685338854789734, 0.11811799556016922, 0.47800877690315247, 0.9512702226638794, 0.047020960599184036, 0.9969369173049927, 0.04831059277057648, 0.23992452025413513, 0.1563308984041214, 0.03202612325549126, 0.5238171219825745, 0.04439471662044525, 0.0031710511539131403, 0.9513153433799744, 0.998622477054596, 0.16576625406742096, 0.5889795422554016, 0.048155561089515686, 0.039820946753025055, 0.15743164718151093, 0.9898408651351929, 0.9921820759773254, 0.9855671525001526, 0.9977425932884216, 0.02018563263118267, 0.14274126291275024, 0.16725237667560577, 0.6704513430595398, 0.9927351474761963, 0.9546507000923157, 0.04419679194688797, 0.9737875461578369, 0.025852765887975693, 0.9942298531532288, 0.10674150288105011, 0.8876398205757141, 0.023846935480833054, 0.969775378704071, 0.9984095096588135, 0.2268797755241394, 0.6183403730392456, 0.09763269126415253, 0.05579010769724846, 0.9916747212409973, 0.9931824207305908, 0.9967693090438843, 0.9941200017929077, 0.9453781247138977, 0.05156607925891876, 0.9938688278198242, 0.36086946725845337, 0.23141750693321228, 0.23053085803985596, 0.11548709124326706, 0.06184433400630951, 0.3902013599872589, 0.22276420891284943, 0.21431955695152283, 0.05940379202365875, 0.11327487230300903, 0.99498450756073, 0.0187155082821846, 0.001439654384739697, 0.6420858502388, 0.3368791341781616, 0.9974066615104675, 0.05709821730852127, 0.9421206116676331, 0.037851814180612564, 0.8805527687072754, 0.07371143251657486, 0.0059766024351119995, 0.9911485910415649, 0.9943086504936218, 0.9434205293655396, 0.05463825538754463, 0.9983261823654175, 0.9972861409187317, 0.34971094131469727, 0.15929962694644928, 0.2998928725719452, 0.1620563566684723, 0.029142579063773155, 0.663443922996521, 0.10913529247045517, 0.043777432292699814, 0.18250873684883118, 0.0006165835657157004, 0.9943503141403198, 0.0260250736027956, 0.9716027975082397, 0.5655310750007629, 0.07338952273130417, 0.23347942531108856, 0.07770655304193497, 0.050005607306957245, 0.025628317147493362, 0.9482477903366089, 0.025628317147493362, 0.05848143249750137, 0.034189146012067795, 0.5461266040802002, 0.10166772454977036, 0.2591177225112915, 0.0933033674955368, 0.20414495468139648, 0.2974483370780945, 0.2146679013967514, 0.19034822285175323, 0.9967420101165771, 0.45489493012428284, 0.2798313498497009, 0.09755794703960419, 0.10814738273620605, 0.05948105826973915, 0.38652727007865906, 0.3851030766963959, 0.0704977884888649, 0.13786235451698303, 0.020081188529729843, 0.8911525011062622, 0.10484147071838379, 0.3640137016773224, 0.20947712659835815, 0.26571959257125854, 0.09959602355957031, 0.061189714819192886, 0.9938467144966125, 0.9931092262268066, 0.1294706165790558, 0.8172832727432251, 0.04855148121714592, 0.9872355461120605, 0.00700167054310441, 0.9931917190551758, 0.20115642249584198, 0.7725262641906738, 0.025679543614387512, 0.9975364208221436, 0.36639603972435, 0.2045491635799408, 0.1321485936641693, 0.03778184577822685, 0.2592010498046875, 0.9901047945022583, 0.008239335380494595, 0.9804809093475342, 0.008239335380494595, 0.9916229248046875, 0.01846398040652275, 0.030333682894706726, 0.2795974314212799, 0.6699787378311157, 0.07176995277404785, 0.9264848232269287, 0.9943791627883911, 0.11118003726005554, 0.2873576283454895, 0.13976919651031494, 0.011240179650485516, 0.45034024119377136, 0.03626784309744835, 0.00725356861948967, 0.9560203552246094, 0.010331100784242153, 0.012052951380610466, 0.14119170606136322, 0.8368191719055176, 0.9936959147453308, 0.02665216103196144, 0.9123923182487488, 0.000888405367732048, 0.05952315777540207, 0.9877430200576782, 0.9892042279243469, 0.973601758480072, 0.023852158337831497, 0.997316300868988, 0.37293505668640137, 0.211435005068779, 0.123786062002182, 0.16281414031982422, 0.12917377054691315, 0.986208975315094, 0.23713988065719604, 0.7587144374847412, 0.002664493164047599, 0.0013322465820237994, 0.2831785976886749, 0.31557950377464294, 0.13118413090705872, 0.08192422986030579, 0.18834669888019562, 0.9598782062530518, 0.03911729156970978, 0.9237351417541504, 0.07207789272069931, 0.003793573472648859, 0.34972524642944336, 0.0004280602734070271, 0.6138384342193604, 0.035100940614938736, 0.001284180791117251, 0.3004242479801178, 0.3497428297996521, 0.12345760315656662, 0.13764072954654694, 0.08864449709653854, 0.06011335924267769, 0.9377683997154236, 0.8981292843818665, 0.10129277408123016, 0.13929611444473267, 0.08638111501932144, 0.27859222888946533, 0.23829272389411926, 0.25739118456840515, 0.9879089593887329, 0.07836946099996567, 0.26645615696907043, 0.04609968140721321, 0.4877346158027649, 0.12170315533876419, 0.4371204674243927, 0.048282820731401443, 0.197637677192688, 0.31201431155204773, 0.0049355775117874146, 0.9874652028083801, 0.0074245501309633255], \"Term\": [\"access\", \"access\", \"access\", \"access\", \"account\", \"account\", \"account\", \"add\", \"add\", \"add\", \"add\", \"add\", \"afternoon\", \"album\", \"alien\", \"also\", \"also\", \"also\", \"also\", \"also\", \"always\", \"always\", \"always\", \"always\", \"always\", \"animation\", \"animation\", \"anime\", \"anxiety\", \"app\", \"app\", \"app\", \"apply\", \"apply\", \"apply\", \"apply\", \"apply\", \"arrow\", \"article\", \"article\", \"article\", \"article\", \"article\", \"artist\", \"artist\", \"ask\", \"ask\", \"ask\", \"ask\", \"ask\", \"attack\", \"attack\", \"attack\", \"author\", \"author\", \"baby\", \"back\", \"back\", \"back\", \"back\", \"back\", \"bad\", \"bad\", \"bad\", \"bad\", \"bad\", \"bag\", \"bag\", \"bag\", \"bass\", \"battery\", \"battery\", \"bed\", \"bed\", \"bike\", \"bitcoin\", \"blade\", \"book\", \"book\", \"book\", \"boyfriend\", \"boyfriend\", \"bra\", \"brake\", \"breast\", \"browser\", \"btc\", \"business\", \"business\", \"business\", \"business\", \"button\", \"button\", \"buy\", \"buy\", \"buy\", \"buy\", \"cage\", \"call\", \"call\", \"call\", \"call\", \"call\", \"cancer\", \"cancer\", \"car\", \"card\", \"career\", \"change\", \"change\", \"change\", \"change\", \"change\", \"character\", \"character\", \"charge\", \"charge\", \"charge\", \"charge\", \"charge\", \"check\", \"check\", \"check\", \"check\", \"check\", \"chef\", \"chicken\", \"child\", \"child\", \"chinese\", \"cigarette\", \"citizen\", \"class\", \"class\", \"class\", \"class\", \"class\", \"click\", \"click\", \"click\", \"clothe\", \"code\", \"code\", \"code\", \"code\", \"coin\", \"college\", \"college\", \"color\", \"color\", \"color\", \"come\", \"come\", \"come\", \"come\", \"come\", \"community\", \"community\", \"community\", \"community\", \"community\", \"commute\", \"company\", \"company\", \"company\", \"computer\", \"computer\", \"computer\", \"computer\", \"computer\", \"cook\", \"cook\", \"country\", \"country\", \"country\", \"country\", \"coworker\", \"create\", \"create\", \"create\", \"create\", \"crime\", \"cruise\", \"cry\", \"culture\", \"cup\", \"database\", \"datum\", \"datum\", \"datum\", \"daughter\", \"daughter\", \"day\", \"day\", \"day\", \"day\", \"day\", \"deck\", \"default\", \"default\", \"delivery\", \"depression\", \"device\", \"device\", \"dimension\", \"disable\", \"disc\", \"discuss\", \"discuss\", \"dish\", \"display\", \"display\", \"dog\", \"dog\", \"download\", \"download\", \"draw\", \"draw\", \"draw\", \"draw\", \"draw\", \"dream\", \"dream\", \"dream\", \"dress\", \"drive\", \"drive\", \"drive\", \"drive\", \"drive\", \"economic\", \"education\", \"emotion\", \"enable\", \"end\", \"end\", \"end\", \"end\", \"end\", \"enemy\", \"episode\", \"episode\", \"error\", \"error\", \"even\", \"even\", \"even\", \"even\", \"even\", \"execute\", \"experience\", \"experience\", \"experience\", \"experience\", \"experience\", \"eye\", \"eye\", \"fan\", \"fan\", \"fan\", \"fan\", \"fan\", \"feel\", \"feel\", \"feel\", \"feel\", \"feel\", \"feeling\", \"feeling\", \"fighter\", \"file\", \"file\", \"film\", \"find\", \"find\", \"find\", \"find\", \"find\", \"first\", \"first\", \"first\", \"first\", \"first\", \"flag\", \"folder\", \"food\", \"food\", \"food\", \"french\", \"friend\", \"friend\", \"friend\", \"friend\", \"friend\", \"fuck\", \"game\", \"game\", \"gas\", \"gas\", \"gem\", \"german\", \"german\", \"german\", \"get\", \"get\", \"get\", \"get\", \"get\", \"girl\", \"girl\", \"go\", \"go\", \"go\", \"go\", \"go\", \"good\", \"good\", \"good\", \"good\", \"good\", \"government\", \"government\", \"graduate\", \"group\", \"group\", \"group\", \"group\", \"group\", \"guitar\", \"gun\", \"hardware\", \"help\", \"help\", \"help\", \"help\", \"help\", \"hero\", \"horse\", \"hour\", \"hour\", \"hour\", \"hour\", \"hour\", \"https_wwwyoutubecom\", \"hurt\", \"hurt\", \"industry\", \"information\", \"information\", \"information\", \"information\", \"information\", \"instal\", \"instal\", \"install\", \"insurance\", \"interest\", \"interest\", \"interest\", \"interest\", \"interested\", \"interested\", \"interested\", \"interested\", \"interested\", \"international\", \"international\", \"interview\", \"issue\", \"issue\", \"issue\", \"issue\", \"issue\", \"job\", \"job\", \"job\", \"kid\", \"kid\", \"kid\", \"kill\", \"kill\", \"know\", \"know\", \"know\", \"know\", \"know\", \"korean\", \"language\", \"language\", \"last\", \"last\", \"last\", \"last\", \"last\", \"learn\", \"learn\", \"learn\", \"learn\", \"learn\", \"lease\", \"level\", \"level\", \"level\", \"level\", \"level\", \"life\", \"life\", \"life\", \"life\", \"loan\", \"locate\", \"log\", \"log\", \"look\", \"look\", \"look\", \"look\", \"look\", \"love\", \"love\", \"love\", \"love\", \"love\", \"lyric\", \"magic\", \"magic\", \"make\", \"make\", \"make\", \"make\", \"make\", \"male\", \"male\", \"man\", \"man\", \"man\", \"man\", \"many\", \"many\", \"many\", \"many\", \"many\", \"marketing\", \"meal\", \"meat\", \"meme\", \"mile\", \"military\", \"milk\", \"mining\", \"minute\", \"minute\", \"minute\", \"minute\", \"minute\", \"mission\", \"mom\", \"mom\", \"money\", \"money\", \"money\", \"money\", \"money\", \"monster\", \"monster\", \"month\", \"month\", \"month\", \"month\", \"month\", \"mother\", \"mother\", \"mouse\", \"mouse\", \"mouth\", \"movie\", \"movie\", \"movie\", \"much\", \"much\", \"much\", \"much\", \"much\", \"music\", \"music\", \"music\", \"nation\", \"need\", \"need\", \"need\", \"need\", \"need\", \"nerve\", \"network\", \"network\", \"never\", \"never\", \"never\", \"never\", \"never\", \"new\", \"new\", \"new\", \"new\", \"new\", \"night\", \"night\", \"night\", \"nose\", \"oil\", \"oil\", \"option\", \"option\", \"option\", \"option\", \"option\", \"order\", \"order\", \"order\", \"order\", \"order\", \"output\", \"pain\", \"pain\", \"park\", \"park\", \"parking\", \"participate\", \"password\", \"pay\", \"pay\", \"pay\", \"pay\", \"people\", \"people\", \"people\", \"people\", \"people\", \"pet\", \"play\", \"play\", \"play\", \"player\", \"player\", \"playlist\", \"plot\", \"plot\", \"politic\", \"political\", \"port\", \"post\", \"post\", \"post\", \"post\", \"post\", \"pregnant\", \"pregnant\", \"problem\", \"problem\", \"problem\", \"problem\", \"problem\", \"program\", \"program\", \"program\", \"program\", \"psychology\", \"pump\", \"query\", \"quest\", \"question\", \"question\", \"question\", \"question\", \"question\", \"rape\", \"read\", \"read\", \"read\", \"read\", \"read\", \"really\", \"really\", \"really\", \"really\", \"really\", \"rear\", \"relationship\", \"relationship\", \"release\", \"release\", \"release\", \"release\", \"release\", \"rent\", \"rent\", \"rental\", \"research\", \"research\", \"research\", \"research\", \"research\", \"restart\", \"resume\", \"river\", \"run\", \"run\", \"run\", \"run\", \"say\", \"say\", \"say\", \"say\", \"say\", \"scare\", \"scared\", \"scene\", \"scene\", \"scene\", \"school\", \"school\", \"science\", \"score\", \"score\", \"score\", \"score\", \"screen\", \"screen\", \"screen\", \"screen\", \"season\", \"season\", \"season\", \"see\", \"see\", \"see\", \"see\", \"see\", \"seem\", \"seem\", \"seem\", \"seem\", \"seem\", \"send\", \"send\", \"send\", \"send\", \"send\", \"series\", \"series\", \"server\", \"set\", \"set\", \"set\", \"set\", \"set\", \"setting\", \"setting\", \"setting\", \"sex\", \"show\", \"show\", \"show\", \"show\", \"show\", \"shower\", \"signature\", \"sing\", \"sister\", \"site\", \"site\", \"site\", \"site\", \"skate\", \"skin\", \"skin\", \"sleep\", \"sleep\", \"smile\", \"social\", \"social\", \"society\", \"society\", \"song\", \"sound\", \"sound\", \"sound\", \"sound\", \"spanish\", \"spawn\", \"spoiler\", \"spotify\", \"star\", \"star\", \"stare\", \"start\", \"start\", \"start\", \"start\", \"start\", \"still\", \"still\", \"still\", \"still\", \"still\", \"storage\", \"store\", \"store\", \"store\", \"store\", \"student\", \"study\", \"study\", \"style\", \"style\", \"style\", \"style\", \"survey\", \"sword\", \"symptom\", \"symptom\", \"tab\", \"tab_tab\", \"take\", \"take\", \"take\", \"take\", \"take\", \"talk\", \"talk\", \"talk\", \"talk\", \"talk\", \"tea\", \"teacher\", \"teacher\", \"tell\", \"tell\", \"tell\", \"tell\", \"tell\", \"temperature\", \"temperature\", \"temperature\", \"test\", \"test\", \"test\", \"test\", \"test\", \"thank\", \"thank\", \"thank\", \"thank\", \"thank\", \"theme\", \"thing\", \"thing\", \"thing\", \"thing\", \"thing\", \"think\", \"think\", \"think\", \"think\", \"think\", \"ticket\", \"ticket\", \"time\", \"time\", \"time\", \"time\", \"time\", \"tire\", \"token\", \"tomorrow\", \"tomorrow\", \"tomorrow\", \"tooth\", \"tooth\", \"transaction\", \"trip\", \"trip\", \"trip\", \"truck\", \"try\", \"try\", \"try\", \"try\", \"try\", \"uncomfortable\", \"universe\", \"universe\", \"universe\", \"university\", \"update\", \"update\", \"update\", \"update\", \"upgrade\", \"upgrade\", \"usb\", \"use\", \"use\", \"use\", \"use\", \"use\", \"user\", \"user\", \"user\", \"value\", \"value\", \"value\", \"value\", \"variable\", \"video\", \"video\", \"video\", \"video\", \"villain\", \"volunteer\", \"wake\", \"wake\", \"wallet\", \"want\", \"want\", \"want\", \"want\", \"want\", \"warranty\", \"watch\", \"watch\", \"watch\", \"watch\", \"way\", \"way\", \"way\", \"way\", \"way\", \"weapon\", \"weapon\", \"wear\", \"wear\", \"wear\", \"week\", \"week\", \"week\", \"week\", \"week\", \"well\", \"well\", \"well\", \"well\", \"well\", \"wheel\", \"wheel\", \"woman\", \"woman\", \"work\", \"work\", \"work\", \"work\", \"work\", \"workout\", \"write\", \"write\", \"write\", \"write\", \"write\", \"year\", \"year\", \"year\", \"year\", \"year\", \"youtube\", \"youtube\"]}, \"R\": 30, \"lambda.step\": 0.01, \"plot.opts\": {\"xlab\": \"PC1\", \"ylab\": \"PC2\"}, \"topic.order\": [2, 3, 5, 4, 1]};\n",
       "\n",
       "function LDAvis_load_lib(url, callback){\n",
       "  var s = document.createElement('script');\n",
       "  s.src = url;\n",
       "  s.async = true;\n",
       "  s.onreadystatechange = s.onload = callback;\n",
       "  s.onerror = function(){console.warn(\"failed to load library \" + url);};\n",
       "  document.getElementsByTagName(\"head\")[0].appendChild(s);\n",
       "}\n",
       "\n",
       "if(typeof(LDAvis) !== \"undefined\"){\n",
       "   // already loaded: just create the visualization\n",
       "   !function(LDAvis){\n",
       "       new LDAvis(\"#\" + \"ldavis_el219214605582354721003368392\", ldavis_el219214605582354721003368392_data);\n",
       "   }(LDAvis);\n",
       "}else if(typeof define === \"function\" && define.amd){\n",
       "   // require.js is available: use it to load d3/LDAvis\n",
       "   require.config({paths: {d3: \"https://cdnjs.cloudflare.com/ajax/libs/d3/3.5.5/d3.min\"}});\n",
       "   require([\"d3\"], function(d3){\n",
       "      window.d3 = d3;\n",
       "      LDAvis_load_lib(\"https://cdn.rawgit.com/bmabey/pyLDAvis/files/ldavis.v1.0.0.js\", function(){\n",
       "        new LDAvis(\"#\" + \"ldavis_el219214605582354721003368392\", ldavis_el219214605582354721003368392_data);\n",
       "      });\n",
       "    });\n",
       "}else{\n",
       "    // require.js not available: dynamically load d3 & LDAvis\n",
       "    LDAvis_load_lib(\"https://cdnjs.cloudflare.com/ajax/libs/d3/3.5.5/d3.min.js\", function(){\n",
       "         LDAvis_load_lib(\"https://cdn.rawgit.com/bmabey/pyLDAvis/files/ldavis.v1.0.0.js\", function(){\n",
       "                 new LDAvis(\"#\" + \"ldavis_el219214605582354721003368392\", ldavis_el219214605582354721003368392_data);\n",
       "            })\n",
       "         });\n",
       "}\n",
       "</script>"
      ],
      "text/plain": [
       "PreparedData(topic_coordinates=              x         y  topics  cluster       Freq\n",
       "topic                                                \n",
       "1      0.144344  0.053644       1        1  27.310080\n",
       "2      0.036276 -0.004478       2        1  25.708878\n",
       "4      0.008358  0.107219       3        1  17.351351\n",
       "3      0.020241 -0.179534       4        1  14.979535\n",
       "0     -0.209219  0.023148       5        1  14.650152, topic_info=     Category          Freq       Term         Total  loglift  logprob\n",
       "390   Default   2783.000000       game   2783.000000  30.0000  30.0000\n",
       "399   Default   3318.000000       play   3318.000000  29.0000  29.0000\n",
       "246   Default   4011.000000        day   4011.000000  28.0000  28.0000\n",
       "41    Default   5218.000000       feel   5218.000000  27.0000  27.0000\n",
       "1673  Default   1185.000000       card   1185.000000  26.0000  26.0000\n",
       "154   Default   4092.000000        use   4092.000000  25.0000  25.0000\n",
       "209   Default   2336.000000       week   2336.000000  24.0000  24.0000\n",
       "78    Default   4660.000000       year   4660.000000  23.0000  23.0000\n",
       "59    Default   4516.000000     people   4516.000000  22.0000  22.0000\n",
       "270   Default   5707.000000       work   5707.000000  21.0000  21.0000\n",
       "873   Default   2009.000000        buy   2009.000000  20.0000  20.0000\n",
       "1220  Default    945.000000        car    945.000000  19.0000  19.0000\n",
       "721   Default    860.000000       file    860.000000  18.0000  18.0000\n",
       "457   Default   1157.000000  character   1157.000000  17.0000  17.0000\n",
       "879   Default   1536.000000       hour   1536.000000  16.0000  16.0000\n",
       "116   Default   2494.000000      month   2494.000000  15.0000  15.0000\n",
       "2156  Default   1028.000000       book   1028.000000  14.0000  14.0000\n",
       "900   Default   1103.000000     season   1103.000000  13.0000  13.0000\n",
       "776   Default    913.000000     school    913.000000  12.0000  12.0000\n",
       "106   Default  11706.000000        get  11706.000000  11.0000  11.0000\n",
       "257   Default   1216.000000        job   1216.000000  10.0000  10.0000\n",
       "68    Default   1842.000000        set   1842.000000   9.0000   9.0000\n",
       "1976  Default   1158.000000     player   1158.000000   8.0000   8.0000\n",
       "659   Default   2100.000000        run   2100.000000   7.0000   7.0000\n",
       "494   Default    689.000000       user    689.000000   6.0000   6.0000\n",
       "48    Default   1711.000000       life   1711.000000   5.0000   5.0000\n",
       "402   Default   1501.000000      watch   1501.000000   4.0000   4.0000\n",
       "996   Default   1125.000000      video   1125.000000   3.0000   3.0000\n",
       "213   Default  10132.000000         go  10132.000000   2.0000   2.0000\n",
       "197   Default   1137.000000        pay   1137.000000   1.0000   1.0000\n",
       "...       ...           ...        ...           ...      ...      ...\n",
       "154    Topic5   1843.343262        use   4092.461182   1.1232  -4.4435\n",
       "1145   Topic5    301.274109   computer    368.733948   1.7187  -6.2548\n",
       "68     Topic5    964.539978        set   1842.246094   1.2736  -5.0911\n",
       "286    Topic5    508.264587     update    758.233032   1.5207  -5.7318\n",
       "1077   Topic5    349.643921     screen    455.376648   1.6565  -6.1059\n",
       "1825   Topic5    464.581604       site    693.562622   1.5200  -5.8216\n",
       "429    Topic5    546.849731     create    970.453369   1.3471  -5.6586\n",
       "486    Topic5    732.617065      issue   1699.308594   1.0794  -5.3662\n",
       "21     Topic5   1475.063110        try   5690.563477   0.5706  -4.6663\n",
       "270    Topic5   1469.242188       work   5707.266113   0.5637  -4.6703\n",
       "659    Topic5    822.464539        run   2100.086426   0.9833  -5.2505\n",
       "873    Topic5    785.063049        buy   2009.564209   0.9808  -5.2970\n",
       "937    Topic5    621.267578        add   1419.186523   1.0946  -5.5310\n",
       "530    Topic5    663.578308    problem   1723.929199   0.9660  -5.4651\n",
       "195    Topic5    937.503479       need   3796.877686   0.5220  -5.1196\n",
       "472    Topic5    838.437866        new   3267.401367   0.5605  -5.2312\n",
       "337    Topic5    517.634216       send   1083.662109   1.1819  -5.7135\n",
       "654    Topic5    482.579742     option    959.283875   1.2337  -5.7836\n",
       "106    Topic5   1192.674927        get  11706.514648  -0.3632  -4.8788\n",
       "151    Topic5    813.968018      thank   4276.373047   0.2618  -5.2609\n",
       "215    Topic5    800.412048       help   4138.439453   0.2778  -5.2777\n",
       "156    Topic5    982.721375       want   7609.903809  -0.1262  -5.0725\n",
       "103    Topic5    792.975464       find   5078.621582   0.0637  -5.2870\n",
       "157    Topic5    714.981262        way   3796.190674   0.2512  -5.3905\n",
       "11     Topic5    749.296204       make   7244.953125  -0.3482  -5.3437\n",
       "680    Topic5    549.320190     change   1885.101074   0.6877  -5.6541\n",
       "115    Topic5    658.261780       look   6067.295898  -0.3003  -5.4732\n",
       "213    Topic5    628.255371         go  10132.658203  -0.8599  -5.5198\n",
       "0      Topic5    555.193604       also   5104.872070  -0.2979  -5.6435\n",
       "67     Topic5    529.124207       seem   3545.737061   0.0184  -5.6916\n",
       "\n",
       "[446 rows x 6 columns], token_table=      Topic      Freq       Term\n",
       "term                            \n",
       "1053      2  0.010719     access\n",
       "1053      3  0.057883     access\n",
       "1053      4  0.122198     access\n",
       "1053      5  0.806075     access\n",
       "2554      3  0.019668    account\n",
       "2554      4  0.118006    account\n",
       "2554      5  0.860838    account\n",
       "937       1  0.084555        add\n",
       "937       2  0.274805        add\n",
       "937       3  0.193068        add\n",
       "937       4  0.009160        add\n",
       "937       5  0.437575        add\n",
       "1591      3  0.985157  afternoon\n",
       "4045      2  0.995988      album\n",
       "4687      2  0.983974      alien\n",
       "0         1  0.246627       also\n",
       "0         2  0.318127       also\n",
       "0         3  0.163177       also\n",
       "0         4  0.163177       also\n",
       "0         5  0.108720       also\n",
       "468       1  0.559657     always\n",
       "468       2  0.238243     always\n",
       "468       3  0.063317     always\n",
       "468       4  0.106780     always\n",
       "468       5  0.032195     always\n",
       "298       2  0.973024  animation\n",
       "298       4  0.021464  animation\n",
       "3731      2  0.990621      anime\n",
       "1645      1  0.994496    anxiety\n",
       "2807      2  0.005087        app\n",
       "...     ...       ...        ...\n",
       "209       3  0.613838       week\n",
       "209       4  0.035101       week\n",
       "209       5  0.001284       week\n",
       "269       1  0.300424       well\n",
       "269       2  0.349743       well\n",
       "269       3  0.123458       well\n",
       "269       4  0.137641       well\n",
       "269       5  0.088644       well\n",
       "3801      2  0.060113      wheel\n",
       "3801      3  0.937768      wheel\n",
       "635       1  0.898129      woman\n",
       "635       4  0.101293      woman\n",
       "270       1  0.139296       work\n",
       "270       2  0.086381       work\n",
       "270       3  0.278592       work\n",
       "270       4  0.238293       work\n",
       "270       5  0.257391       work\n",
       "4196      3  0.987909    workout\n",
       "22        1  0.078369      write\n",
       "22        2  0.266456      write\n",
       "22        3  0.046100      write\n",
       "22        4  0.487735      write\n",
       "22        5  0.121703      write\n",
       "78        1  0.437120       year\n",
       "78        2  0.048283       year\n",
       "78        3  0.197638       year\n",
       "78        4  0.312014       year\n",
       "78        5  0.004936       year\n",
       "351       2  0.987465    youtube\n",
       "351       4  0.007425    youtube\n",
       "\n",
       "[875 rows x 3 columns], R=30, lambda_step=0.01, plot_opts={'xlab': 'PC1', 'ylab': 'PC2'}, topic_order=[2, 3, 5, 4, 1])"
      ]
     },
     "execution_count": 74,
     "metadata": {},
     "output_type": "execute_result"
    }
   ],
   "source": [
    "# Visualize the topics\n",
    "\n",
    "pyLDAvis.enable_notebook()\n",
    "\n",
    "LDAvis_prepared = pyLDAvis.gensim.prepare(lda_model, corpus, id2word)\n",
    "\n",
    "LDAvis_prepared"
   ]
  },
  {
   "cell_type": "code",
   "execution_count": null,
   "metadata": {},
   "outputs": [],
   "source": []
  }
 ],
 "metadata": {
  "kernelspec": {
   "display_name": "Python 3",
   "language": "python",
   "name": "python3"
  },
  "language_info": {
   "codemirror_mode": {
    "name": "ipython",
    "version": 3
   },
   "file_extension": ".py",
   "mimetype": "text/x-python",
   "name": "python",
   "nbconvert_exporter": "python",
   "pygments_lexer": "ipython3",
   "version": "3.7.3"
  }
 },
 "nbformat": 4,
 "nbformat_minor": 2
}
